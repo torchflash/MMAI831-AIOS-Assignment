{
  "nbformat": 4,
  "nbformat_minor": 0,
  "metadata": {
    "colab": {
      "provenance": [],
      "authorship_tag": "ABX9TyMnS81PZ3VLCz6W3rvBhoMe",
      "include_colab_link": true
    },
    "kernelspec": {
      "name": "python3",
      "display_name": "Python 3"
    },
    "language_info": {
      "name": "python"
    }
  },
  "cells": [
    {
      "cell_type": "markdown",
      "metadata": {
        "id": "view-in-github",
        "colab_type": "text"
      },
      "source": [
        "<a href=\"https://colab.research.google.com/github/torchflash/MMAI831-AIOS-Assignment/blob/main/MB_AIOS.ipynb\" target=\"_parent\"><img src=\"https://colab.research.google.com/assets/colab-badge.svg\" alt=\"Open In Colab\"/></a>"
      ]
    },
    {
      "cell_type": "markdown",
      "source": [
        "##**1. Set Up**"
      ],
      "metadata": {
        "id": "5Qvta7a_ztiv"
      }
    },
    {
      "cell_type": "code",
      "execution_count": 112,
      "metadata": {
        "id": "_g25K4Idp9xO"
      },
      "outputs": [],
      "source": [
        "import os\n",
        "import numpy as np\n",
        "import pandas as pd\n",
        "import matplotlib.pyplot as plt\n",
        "import seaborn as sns\n",
        "import statsmodels.api as sm\n",
        "\n",
        "from google.colab import drive\n",
        "\n",
        "from sklearn.linear_model import LinearRegression\n",
        "from sklearn.model_selection import train_test_split\n",
        "from sklearn.metrics import mean_squared_error\n",
        "from sklearn.metrics import mean_absolute_percentage_error"
      ]
    },
    {
      "cell_type": "code",
      "source": [
        "csv_url = 'https://drive.google.com/uc?export=download&id=1GPlcEcdy3e6KtS5eiH4lhPV1OjCNwT8_'\n",
        "df = pd.read_csv(csv_url)\n",
        "df = df.drop(df.columns[0], axis=1)"
      ],
      "metadata": {
        "id": "AZVxk046qOWY"
      },
      "execution_count": 92,
      "outputs": []
    },
    {
      "cell_type": "code",
      "source": [
        "seed = 42"
      ],
      "metadata": {
        "id": "4TnBtIv8qWHH"
      },
      "execution_count": 93,
      "outputs": []
    },
    {
      "cell_type": "markdown",
      "source": [
        "##**2. EDA**"
      ],
      "metadata": {
        "id": "BwoCLW4Jz7Rf"
      }
    },
    {
      "cell_type": "code",
      "source": [
        "df.head()"
      ],
      "metadata": {
        "colab": {
          "base_uri": "https://localhost:8080/",
          "height": 206
        },
        "id": "v-Tv0Q9Oqn-e",
        "outputId": "41759b8a-4527-4019-adf8-f793a3af00db"
      },
      "execution_count": 94,
      "outputs": [
        {
          "output_type": "execute_result",
          "data": {
            "text/plain": [
              "   store  billboard  printout  sat  comp  price        sales\n",
              "0   1698        698       556   68   607     95  13605.61191\n",
              "1   2069       1075       775   72   637    101  19142.67334\n",
              "2   2271        615       772   71   761     95  15027.62340\n",
              "3   1413       1158      1098   79  1183     98  16589.65910\n",
              "4   2107       1175       386   77   940     97  21887.58210"
            ],
            "text/html": [
              "\n",
              "  <div id=\"df-1aa96170-769a-4243-818a-77e5519e9d8f\">\n",
              "    <div class=\"colab-df-container\">\n",
              "      <div>\n",
              "<style scoped>\n",
              "    .dataframe tbody tr th:only-of-type {\n",
              "        vertical-align: middle;\n",
              "    }\n",
              "\n",
              "    .dataframe tbody tr th {\n",
              "        vertical-align: top;\n",
              "    }\n",
              "\n",
              "    .dataframe thead th {\n",
              "        text-align: right;\n",
              "    }\n",
              "</style>\n",
              "<table border=\"1\" class=\"dataframe\">\n",
              "  <thead>\n",
              "    <tr style=\"text-align: right;\">\n",
              "      <th></th>\n",
              "      <th>store</th>\n",
              "      <th>billboard</th>\n",
              "      <th>printout</th>\n",
              "      <th>sat</th>\n",
              "      <th>comp</th>\n",
              "      <th>price</th>\n",
              "      <th>sales</th>\n",
              "    </tr>\n",
              "  </thead>\n",
              "  <tbody>\n",
              "    <tr>\n",
              "      <th>0</th>\n",
              "      <td>1698</td>\n",
              "      <td>698</td>\n",
              "      <td>556</td>\n",
              "      <td>68</td>\n",
              "      <td>607</td>\n",
              "      <td>95</td>\n",
              "      <td>13605.61191</td>\n",
              "    </tr>\n",
              "    <tr>\n",
              "      <th>1</th>\n",
              "      <td>2069</td>\n",
              "      <td>1075</td>\n",
              "      <td>775</td>\n",
              "      <td>72</td>\n",
              "      <td>637</td>\n",
              "      <td>101</td>\n",
              "      <td>19142.67334</td>\n",
              "    </tr>\n",
              "    <tr>\n",
              "      <th>2</th>\n",
              "      <td>2271</td>\n",
              "      <td>615</td>\n",
              "      <td>772</td>\n",
              "      <td>71</td>\n",
              "      <td>761</td>\n",
              "      <td>95</td>\n",
              "      <td>15027.62340</td>\n",
              "    </tr>\n",
              "    <tr>\n",
              "      <th>3</th>\n",
              "      <td>1413</td>\n",
              "      <td>1158</td>\n",
              "      <td>1098</td>\n",
              "      <td>79</td>\n",
              "      <td>1183</td>\n",
              "      <td>98</td>\n",
              "      <td>16589.65910</td>\n",
              "    </tr>\n",
              "    <tr>\n",
              "      <th>4</th>\n",
              "      <td>2107</td>\n",
              "      <td>1175</td>\n",
              "      <td>386</td>\n",
              "      <td>77</td>\n",
              "      <td>940</td>\n",
              "      <td>97</td>\n",
              "      <td>21887.58210</td>\n",
              "    </tr>\n",
              "  </tbody>\n",
              "</table>\n",
              "</div>\n",
              "      <button class=\"colab-df-convert\" onclick=\"convertToInteractive('df-1aa96170-769a-4243-818a-77e5519e9d8f')\"\n",
              "              title=\"Convert this dataframe to an interactive table.\"\n",
              "              style=\"display:none;\">\n",
              "        \n",
              "  <svg xmlns=\"http://www.w3.org/2000/svg\" height=\"24px\"viewBox=\"0 0 24 24\"\n",
              "       width=\"24px\">\n",
              "    <path d=\"M0 0h24v24H0V0z\" fill=\"none\"/>\n",
              "    <path d=\"M18.56 5.44l.94 2.06.94-2.06 2.06-.94-2.06-.94-.94-2.06-.94 2.06-2.06.94zm-11 1L8.5 8.5l.94-2.06 2.06-.94-2.06-.94L8.5 2.5l-.94 2.06-2.06.94zm10 10l.94 2.06.94-2.06 2.06-.94-2.06-.94-.94-2.06-.94 2.06-2.06.94z\"/><path d=\"M17.41 7.96l-1.37-1.37c-.4-.4-.92-.59-1.43-.59-.52 0-1.04.2-1.43.59L10.3 9.45l-7.72 7.72c-.78.78-.78 2.05 0 2.83L4 21.41c.39.39.9.59 1.41.59.51 0 1.02-.2 1.41-.59l7.78-7.78 2.81-2.81c.8-.78.8-2.07 0-2.86zM5.41 20L4 18.59l7.72-7.72 1.47 1.35L5.41 20z\"/>\n",
              "  </svg>\n",
              "      </button>\n",
              "      \n",
              "  <style>\n",
              "    .colab-df-container {\n",
              "      display:flex;\n",
              "      flex-wrap:wrap;\n",
              "      gap: 12px;\n",
              "    }\n",
              "\n",
              "    .colab-df-convert {\n",
              "      background-color: #E8F0FE;\n",
              "      border: none;\n",
              "      border-radius: 50%;\n",
              "      cursor: pointer;\n",
              "      display: none;\n",
              "      fill: #1967D2;\n",
              "      height: 32px;\n",
              "      padding: 0 0 0 0;\n",
              "      width: 32px;\n",
              "    }\n",
              "\n",
              "    .colab-df-convert:hover {\n",
              "      background-color: #E2EBFA;\n",
              "      box-shadow: 0px 1px 2px rgba(60, 64, 67, 0.3), 0px 1px 3px 1px rgba(60, 64, 67, 0.15);\n",
              "      fill: #174EA6;\n",
              "    }\n",
              "\n",
              "    [theme=dark] .colab-df-convert {\n",
              "      background-color: #3B4455;\n",
              "      fill: #D2E3FC;\n",
              "    }\n",
              "\n",
              "    [theme=dark] .colab-df-convert:hover {\n",
              "      background-color: #434B5C;\n",
              "      box-shadow: 0px 1px 3px 1px rgba(0, 0, 0, 0.15);\n",
              "      filter: drop-shadow(0px 1px 2px rgba(0, 0, 0, 0.3));\n",
              "      fill: #FFFFFF;\n",
              "    }\n",
              "  </style>\n",
              "\n",
              "      <script>\n",
              "        const buttonEl =\n",
              "          document.querySelector('#df-1aa96170-769a-4243-818a-77e5519e9d8f button.colab-df-convert');\n",
              "        buttonEl.style.display =\n",
              "          google.colab.kernel.accessAllowed ? 'block' : 'none';\n",
              "\n",
              "        async function convertToInteractive(key) {\n",
              "          const element = document.querySelector('#df-1aa96170-769a-4243-818a-77e5519e9d8f');\n",
              "          const dataTable =\n",
              "            await google.colab.kernel.invokeFunction('convertToInteractive',\n",
              "                                                     [key], {});\n",
              "          if (!dataTable) return;\n",
              "\n",
              "          const docLinkHtml = 'Like what you see? Visit the ' +\n",
              "            '<a target=\"_blank\" href=https://colab.research.google.com/notebooks/data_table.ipynb>data table notebook</a>'\n",
              "            + ' to learn more about interactive tables.';\n",
              "          element.innerHTML = '';\n",
              "          dataTable['output_type'] = 'display_data';\n",
              "          await google.colab.output.renderOutput(dataTable, element);\n",
              "          const docLink = document.createElement('div');\n",
              "          docLink.innerHTML = docLinkHtml;\n",
              "          element.appendChild(docLink);\n",
              "        }\n",
              "      </script>\n",
              "    </div>\n",
              "  </div>\n",
              "  "
            ]
          },
          "metadata": {},
          "execution_count": 94
        }
      ]
    },
    {
      "cell_type": "code",
      "source": [
        "df.info()"
      ],
      "metadata": {
        "colab": {
          "base_uri": "https://localhost:8080/"
        },
        "id": "NyIAInirqy5Q",
        "outputId": "ce3408b6-16bc-45c1-da54-3d9e1989b403"
      },
      "execution_count": 95,
      "outputs": [
        {
          "output_type": "stream",
          "name": "stdout",
          "text": [
            "<class 'pandas.core.frame.DataFrame'>\n",
            "RangeIndex: 1000 entries, 0 to 999\n",
            "Data columns (total 7 columns):\n",
            " #   Column     Non-Null Count  Dtype  \n",
            "---  ------     --------------  -----  \n",
            " 0   store      1000 non-null   int64  \n",
            " 1   billboard  1000 non-null   int64  \n",
            " 2   printout   1000 non-null   int64  \n",
            " 3   sat        1000 non-null   int64  \n",
            " 4   comp       1000 non-null   int64  \n",
            " 5   price      1000 non-null   int64  \n",
            " 6   sales      1000 non-null   float64\n",
            "dtypes: float64(1), int64(6)\n",
            "memory usage: 54.8 KB\n"
          ]
        }
      ]
    },
    {
      "cell_type": "code",
      "source": [
        "# Histogram of the 'sales' variable\n",
        "plt.figure(figsize=(4, 3))\n",
        "plt.hist(df['sales'], bins=20)\n",
        "plt.xlabel('Sales')\n",
        "plt.ylabel('Frequency')\n",
        "plt.title('Distribution of Sales')\n",
        "plt.show()"
      ],
      "metadata": {
        "colab": {
          "base_uri": "https://localhost:8080/",
          "height": 333
        },
        "id": "Tp_n5zXArR98",
        "outputId": "19f76cb4-5827-4865-a345-307a493f57a6"
      },
      "execution_count": 96,
      "outputs": [
        {
          "output_type": "display_data",
          "data": {
            "text/plain": [
              "<Figure size 400x300 with 1 Axes>"
            ],
            "image/png": "[encoded data removed]"
          },
          "metadata": {}
        }
      ]
    },
    {
      "cell_type": "code",
      "source": [
        "# count unique stores\n",
        "unique_stores = set(df['store'])\n",
        "count = len(unique_stores)\n",
        "\n",
        "print(f\"Number of unique stores: {count}\")"
      ],
      "metadata": {
        "colab": {
          "base_uri": "https://localhost:8080/"
        },
        "id": "nfJ_Zaj7tB-8",
        "outputId": "6a0c9e0d-dfcc-4963-a4a8-15659e3a7fd9"
      },
      "execution_count": 97,
      "outputs": [
        {
          "output_type": "stream",
          "name": "stdout",
          "text": [
            "Number of unique stores: 627\n"
          ]
        }
      ]
    },
    {
      "cell_type": "code",
      "source": [
        "# Histogram of the 'stores' variable\n",
        "plt.figure(figsize=(4, 3))\n",
        "plt.hist(df['store'], bins=20)\n",
        "plt.xlabel('Store')\n",
        "plt.ylabel('Frequency')\n",
        "plt.title('Distribution of Stores')\n",
        "plt.show()"
      ],
      "metadata": {
        "colab": {
          "base_uri": "https://localhost:8080/",
          "height": 333
        },
        "id": "8dktVvwOsLek",
        "outputId": "e5172c14-eb8a-45e8-b1a9-26d30f7085d6"
      },
      "execution_count": 98,
      "outputs": [
        {
          "output_type": "display_data",
          "data": {
            "text/plain": [
              "<Figure size 400x300 with 1 Axes>"
            ],
            "image/png": "[encoded data removed]"
          },
          "metadata": {}
        }
      ]
    },
    {
      "cell_type": "code",
      "source": [
        "# Calculate total sales for each unique store\n",
        "total_sales = df.groupby('store')['sales'].sum()\n",
        "print(total_sales)\n",
        "\n",
        "# Unique stores\n",
        "unique_stores = list(set(df['store']))\n",
        "\n",
        "# Plotting the chart\n",
        "plt.bar(unique_stores, total_sales)\n",
        "plt.xlabel('Stores')\n",
        "plt.ylabel('Total Sales')\n",
        "plt.title('Sales by Unique Store')\n",
        "plt.show()\n",
        "\n"
      ],
      "metadata": {
        "colab": {
          "base_uri": "https://localhost:8080/",
          "height": 709
        },
        "id": "0pHktyJTtY3T",
        "outputId": "82df1dba-3233-4fff-c35b-62f91107b683"
      },
      "execution_count": 99,
      "outputs": [
        {
          "output_type": "stream",
          "name": "stdout",
          "text": [
            "store\n",
            "1150     8211.999723\n",
            "1191    15257.738480\n",
            "1273    13363.102160\n",
            "1281    16058.237160\n",
            "1283    12271.723010\n",
            "            ...     \n",
            "2637    17751.150060\n",
            "2676    29732.814220\n",
            "2729    26133.693990\n",
            "2760    23372.276180\n",
            "2798    22196.291880\n",
            "Name: sales, Length: 627, dtype: float64\n"
          ]
        },
        {
          "output_type": "display_data",
          "data": {
            "text/plain": [
              "<Figure size 640x480 with 1 Axes>"
            ],
            "image/png": "[encoded data removed]"
          },
          "metadata": {}
        }
      ]
    },
    {
      "cell_type": "code",
      "source": [
        "# Correlation heatmap\n",
        "corr = df[['store', 'billboard', 'printout', 'sat', 'comp', 'price', 'sales']].corr()\n",
        "plt.figure(figsize=(5, 4))\n",
        "sns.heatmap(corr, annot=True, cmap='coolwarm', fmt=\".2f\", square=True)\n",
        "plt.title('Correlation Heatmap')\n",
        "plt.show()"
      ],
      "metadata": {
        "colab": {
          "base_uri": "https://localhost:8080/",
          "height": 437
        },
        "id": "606ncvJsvDG6",
        "outputId": "e056b409-4ab2-4522-90b0-13a92d6cc7a4"
      },
      "execution_count": 100,
      "outputs": [
        {
          "output_type": "display_data",
          "data": {
            "text/plain": [
              "<Figure size 500x400 with 2 Axes>"
            ],
            "image/png": "[encoded data removed]"
          },
          "metadata": {}
        }
      ]
    },
    {
      "cell_type": "code",
      "source": [
        "# New features\n",
        "df['store&bil'] = df['store'] * df['billboard']\n",
        "df['store&pri'] = df['store'] * df['printout']\n",
        "df['bil&pri'] = df['billboard'] * df['printout']\n"
      ],
      "metadata": {
        "id": "8K63Smo1vH-p"
      },
      "execution_count": 101,
      "outputs": []
    },
    {
      "cell_type": "code",
      "source": [
        "df.head()"
      ],
      "metadata": {
        "colab": {
          "base_uri": "https://localhost:8080/",
          "height": 206
        },
        "id": "EsvVr-_t0hNW",
        "outputId": "5e96d496-5741-4d87-e340-7be90f0122c8"
      },
      "execution_count": 102,
      "outputs": [
        {
          "output_type": "execute_result",
          "data": {
            "text/plain": [
              "   store  billboard  printout  sat  comp  price        sales  store&bil  \\\n",
              "0   1698        698       556   68   607     95  13605.61191    1185204   \n",
              "1   2069       1075       775   72   637    101  19142.67334    2224175   \n",
              "2   2271        615       772   71   761     95  15027.62340    1396665   \n",
              "3   1413       1158      1098   79  1183     98  16589.65910    1636254   \n",
              "4   2107       1175       386   77   940     97  21887.58210    2475725   \n",
              "\n",
              "   store&pri  bil&pri  \n",
              "0     944088   388088  \n",
              "1    1603475   833125  \n",
              "2    1753212   474780  \n",
              "3    1551474  1271484  \n",
              "4     813302   453550  "
            ],
            "text/html": [
              "\n",
              "  <div id=\"df-8062d547-6e53-4acc-a747-07ad7919ea90\">\n",
              "    <div class=\"colab-df-container\">\n",
              "      <div>\n",
              "<style scoped>\n",
              "    .dataframe tbody tr th:only-of-type {\n",
              "        vertical-align: middle;\n",
              "    }\n",
              "\n",
              "    .dataframe tbody tr th {\n",
              "        vertical-align: top;\n",
              "    }\n",
              "\n",
              "    .dataframe thead th {\n",
              "        text-align: right;\n",
              "    }\n",
              "</style>\n",
              "<table border=\"1\" class=\"dataframe\">\n",
              "  <thead>\n",
              "    <tr style=\"text-align: right;\">\n",
              "      <th></th>\n",
              "      <th>store</th>\n",
              "      <th>billboard</th>\n",
              "      <th>printout</th>\n",
              "      <th>sat</th>\n",
              "      <th>comp</th>\n",
              "      <th>price</th>\n",
              "      <th>sales</th>\n",
              "      <th>store&amp;bil</th>\n",
              "      <th>store&amp;pri</th>\n",
              "      <th>bil&amp;pri</th>\n",
              "    </tr>\n",
              "  </thead>\n",
              "  <tbody>\n",
              "    <tr>\n",
              "      <th>0</th>\n",
              "      <td>1698</td>\n",
              "      <td>698</td>\n",
              "      <td>556</td>\n",
              "      <td>68</td>\n",
              "      <td>607</td>\n",
              "      <td>95</td>\n",
              "      <td>13605.61191</td>\n",
              "      <td>1185204</td>\n",
              "      <td>944088</td>\n",
              "      <td>388088</td>\n",
              "    </tr>\n",
              "    <tr>\n",
              "      <th>1</th>\n",
              "      <td>2069</td>\n",
              "      <td>1075</td>\n",
              "      <td>775</td>\n",
              "      <td>72</td>\n",
              "      <td>637</td>\n",
              "      <td>101</td>\n",
              "      <td>19142.67334</td>\n",
              "      <td>2224175</td>\n",
              "      <td>1603475</td>\n",
              "      <td>833125</td>\n",
              "    </tr>\n",
              "    <tr>\n",
              "      <th>2</th>\n",
              "      <td>2271</td>\n",
              "      <td>615</td>\n",
              "      <td>772</td>\n",
              "      <td>71</td>\n",
              "      <td>761</td>\n",
              "      <td>95</td>\n",
              "      <td>15027.62340</td>\n",
              "      <td>1396665</td>\n",
              "      <td>1753212</td>\n",
              "      <td>474780</td>\n",
              "    </tr>\n",
              "    <tr>\n",
              "      <th>3</th>\n",
              "      <td>1413</td>\n",
              "      <td>1158</td>\n",
              "      <td>1098</td>\n",
              "      <td>79</td>\n",
              "      <td>1183</td>\n",
              "      <td>98</td>\n",
              "      <td>16589.65910</td>\n",
              "      <td>1636254</td>\n",
              "      <td>1551474</td>\n",
              "      <td>1271484</td>\n",
              "    </tr>\n",
              "    <tr>\n",
              "      <th>4</th>\n",
              "      <td>2107</td>\n",
              "      <td>1175</td>\n",
              "      <td>386</td>\n",
              "      <td>77</td>\n",
              "      <td>940</td>\n",
              "      <td>97</td>\n",
              "      <td>21887.58210</td>\n",
              "      <td>2475725</td>\n",
              "      <td>813302</td>\n",
              "      <td>453550</td>\n",
              "    </tr>\n",
              "  </tbody>\n",
              "</table>\n",
              "</div>\n",
              "      <button class=\"colab-df-convert\" onclick=\"convertToInteractive('df-8062d547-6e53-4acc-a747-07ad7919ea90')\"\n",
              "              title=\"Convert this dataframe to an interactive table.\"\n",
              "              style=\"display:none;\">\n",
              "        \n",
              "  <svg xmlns=\"http://www.w3.org/2000/svg\" height=\"24px\"viewBox=\"0 0 24 24\"\n",
              "       width=\"24px\">\n",
              "    <path d=\"M0 0h24v24H0V0z\" fill=\"none\"/>\n",
              "    <path d=\"M18.56 5.44l.94 2.06.94-2.06 2.06-.94-2.06-.94-.94-2.06-.94 2.06-2.06.94zm-11 1L8.5 8.5l.94-2.06 2.06-.94-2.06-.94L8.5 2.5l-.94 2.06-2.06.94zm10 10l.94 2.06.94-2.06 2.06-.94-2.06-.94-.94-2.06-.94 2.06-2.06.94z\"/><path d=\"M17.41 7.96l-1.37-1.37c-.4-.4-.92-.59-1.43-.59-.52 0-1.04.2-1.43.59L10.3 9.45l-7.72 7.72c-.78.78-.78 2.05 0 2.83L4 21.41c.39.39.9.59 1.41.59.51 0 1.02-.2 1.41-.59l7.78-7.78 2.81-2.81c.8-.78.8-2.07 0-2.86zM5.41 20L4 18.59l7.72-7.72 1.47 1.35L5.41 20z\"/>\n",
              "  </svg>\n",
              "      </button>\n",
              "      \n",
              "  <style>\n",
              "    .colab-df-container {\n",
              "      display:flex;\n",
              "      flex-wrap:wrap;\n",
              "      gap: 12px;\n",
              "    }\n",
              "\n",
              "    .colab-df-convert {\n",
              "      background-color: #E8F0FE;\n",
              "      border: none;\n",
              "      border-radius: 50%;\n",
              "      cursor: pointer;\n",
              "      display: none;\n",
              "      fill: #1967D2;\n",
              "      height: 32px;\n",
              "      padding: 0 0 0 0;\n",
              "      width: 32px;\n",
              "    }\n",
              "\n",
              "    .colab-df-convert:hover {\n",
              "      background-color: #E2EBFA;\n",
              "      box-shadow: 0px 1px 2px rgba(60, 64, 67, 0.3), 0px 1px 3px 1px rgba(60, 64, 67, 0.15);\n",
              "      fill: #174EA6;\n",
              "    }\n",
              "\n",
              "    [theme=dark] .colab-df-convert {\n",
              "      background-color: #3B4455;\n",
              "      fill: #D2E3FC;\n",
              "    }\n",
              "\n",
              "    [theme=dark] .colab-df-convert:hover {\n",
              "      background-color: #434B5C;\n",
              "      box-shadow: 0px 1px 3px 1px rgba(0, 0, 0, 0.15);\n",
              "      filter: drop-shadow(0px 1px 2px rgba(0, 0, 0, 0.3));\n",
              "      fill: #FFFFFF;\n",
              "    }\n",
              "  </style>\n",
              "\n",
              "      <script>\n",
              "        const buttonEl =\n",
              "          document.querySelector('#df-8062d547-6e53-4acc-a747-07ad7919ea90 button.colab-df-convert');\n",
              "        buttonEl.style.display =\n",
              "          google.colab.kernel.accessAllowed ? 'block' : 'none';\n",
              "\n",
              "        async function convertToInteractive(key) {\n",
              "          const element = document.querySelector('#df-8062d547-6e53-4acc-a747-07ad7919ea90');\n",
              "          const dataTable =\n",
              "            await google.colab.kernel.invokeFunction('convertToInteractive',\n",
              "                                                     [key], {});\n",
              "          if (!dataTable) return;\n",
              "\n",
              "          const docLinkHtml = 'Like what you see? Visit the ' +\n",
              "            '<a target=\"_blank\" href=https://colab.research.google.com/notebooks/data_table.ipynb>data table notebook</a>'\n",
              "            + ' to learn more about interactive tables.';\n",
              "          element.innerHTML = '';\n",
              "          dataTable['output_type'] = 'display_data';\n",
              "          await google.colab.output.renderOutput(dataTable, element);\n",
              "          const docLink = document.createElement('div');\n",
              "          docLink.innerHTML = docLinkHtml;\n",
              "          element.appendChild(docLink);\n",
              "        }\n",
              "      </script>\n",
              "    </div>\n",
              "  </div>\n",
              "  "
            ]
          },
          "metadata": {},
          "execution_count": 102
        }
      ]
    },
    {
      "cell_type": "markdown",
      "source": [
        "##**3. Split dataset**"
      ],
      "metadata": {
        "id": "GZYQU8lM1rJO"
      }
    },
    {
      "cell_type": "code",
      "source": [
        "# Count the number of records per unique store\n",
        "records_per_store = df.groupby('store').size()\n",
        "\n",
        "records_per_store.head()"
      ],
      "metadata": {
        "colab": {
          "base_uri": "https://localhost:8080/"
        },
        "id": "1w25Csr65Ydc",
        "outputId": "07f77342-a096-4751-c22c-5f1e56889c53"
      },
      "execution_count": 103,
      "outputs": [
        {
          "output_type": "execute_result",
          "data": {
            "text/plain": [
              "store\n",
              "1150    1\n",
              "1191    1\n",
              "1273    1\n",
              "1281    1\n",
              "1283    1\n",
              "dtype: int64"
            ]
          },
          "metadata": {},
          "execution_count": 103
        }
      ]
    },
    {
      "cell_type": "code",
      "source": [
        "# Split based on 'store' column\n",
        "X = df.drop('sales', axis=1)\n",
        "y = df['sales']\n",
        "\n",
        "X_train, X_test, y_train, y_test = train_test_split(X, y, test_size=0.3, random_state=seed)\n",
        "\n",
        "# Print the split datasets\n",
        "print(\"Train set:\")\n",
        "print(X_train)\n",
        "print(y_train)\n",
        "\n",
        "print(\"Test set:\")\n",
        "print(X_test)\n",
        "print(y_test)"
      ],
      "metadata": {
        "colab": {
          "base_uri": "https://localhost:8080/"
        },
        "id": "EjWx87JW1oEN",
        "outputId": "856e881e-44f4-451a-ca7f-786986a03c8c"
      },
      "execution_count": 104,
      "outputs": [
        {
          "output_type": "stream",
          "name": "stdout",
          "text": [
            "Train set:\n",
            "     store  billboard  printout  sat  comp  price  store&bil  store&pri  \\\n",
            "541   2325        934      1137   70   596    102    2171550    2643525   \n",
            "440   2121        976      1055   78   562     96    2070096    2237655   \n",
            "482   1578        848       622   68   798     98    1338144     981516   \n",
            "422   1973       1141       947   58   789     99    2251193    1868431   \n",
            "778   1953        873       913   72   944    101    1704969    1783089   \n",
            "..     ...        ...       ...  ...   ...    ...        ...        ...   \n",
            "106   1775       1164       601   72   741     92    2066100    1066775   \n",
            "270   1923        590       832   71   752    107    1134570    1599936   \n",
            "860   1868        880       766   66   982     96    1643840    1430888   \n",
            "435   2401        872      1387   68   792    101    2093672    3330187   \n",
            "102   2016       1020       586   74   789    100    2056320    1181376   \n",
            "\n",
            "     bil&pri  \n",
            "541  1061958  \n",
            "440  1029680  \n",
            "482   527456  \n",
            "422  1080527  \n",
            "778   797049  \n",
            "..       ...  \n",
            "106   699564  \n",
            "270   490880  \n",
            "860   674080  \n",
            "435  1209464  \n",
            "102   597720  \n",
            "\n",
            "[700 rows x 9 columns]\n",
            "541    18246.61404\n",
            "440    20268.98426\n",
            "482    14220.26650\n",
            "422    14595.51789\n",
            "778    15711.00409\n",
            "          ...     \n",
            "106    20119.79590\n",
            "270    11513.32661\n",
            "860    16802.64631\n",
            "435    18278.74176\n",
            "102    17054.67275\n",
            "Name: sales, Length: 700, dtype: float64\n",
            "Test set:\n",
            "     store  billboard  printout  sat  comp  price  store&bil  store&pri  \\\n",
            "521   1964       1192       325   62  1113    100    2341088     638300   \n",
            "737   1925       1576       926   64   471     96    3033800    1782550   \n",
            "740   2169       1519       553   73   706    109    3294711    1199457   \n",
            "660   1685       1418       703   67   713     93    2389330    1184555   \n",
            "411   1928        496      1032   74  1147    105     956288    1989696   \n",
            "..     ...        ...       ...  ...   ...    ...        ...        ...   \n",
            "468   1778       1102      1155   75   938     96    1959356    2053590   \n",
            "935   2116       1027       372   72   800    100    2173132     787152   \n",
            "428   1686        822       522   58   736     99    1385892     880092   \n",
            "7     1863        943       928   72   521     97    1756809    1728864   \n",
            "155   2340       1448       420   72   609    102    3388320     982800   \n",
            "\n",
            "     bil&pri  \n",
            "521   387400  \n",
            "737  1459376  \n",
            "740   840007  \n",
            "660   996854  \n",
            "411   511872  \n",
            "..       ...  \n",
            "468  1272810  \n",
            "935   382044  \n",
            "428   429084  \n",
            "7     875104  \n",
            "155   608160  \n",
            "\n",
            "[300 rows x 9 columns]\n",
            "521    19189.311160\n",
            "737    23297.637780\n",
            "740    23725.853760\n",
            "660    20616.917290\n",
            "411    10871.764300\n",
            "           ...     \n",
            "468    19679.358710\n",
            "935    17954.320870\n",
            "428     9970.435911\n",
            "7      17846.293240\n",
            "155    26453.949350\n",
            "Name: sales, Length: 300, dtype: float64\n"
          ]
        }
      ]
    },
    {
      "cell_type": "markdown",
      "source": [
        "##**4. Models**"
      ],
      "metadata": {
        "id": "Q2LvSvzF56z5"
      }
    },
    {
      "cell_type": "markdown",
      "source": [
        "###**4.1 Linear Regression**"
      ],
      "metadata": {
        "id": "qlSMQL6c6FNy"
      }
    },
    {
      "cell_type": "code",
      "source": [
        "X = sm.add_constant(np.column_stack((X_train.store, X_train.billboard, X_train.printout, X_train.sat, X_train.comp, X_train.price, X_train['store&bil'], X_train['store&pri'], X_train['bil&pri'])))\n"
      ],
      "metadata": {
        "id": "OWScz4MH6ELr"
      },
      "execution_count": 105,
      "outputs": []
    },
    {
      "cell_type": "code",
      "source": [
        "model = sm.OLS(y_train, X)\n",
        "results = model.fit()"
      ],
      "metadata": {
        "id": "1krTHA2o_EdJ"
      },
      "execution_count": 106,
      "outputs": []
    },
    {
      "cell_type": "code",
      "source": [
        "# Summary of training dataset\n",
        "print(results.summary())"
      ],
      "metadata": {
        "colab": {
          "base_uri": "https://localhost:8080/"
        },
        "id": "Poyn_oM6CxC8",
        "outputId": "05ac9abe-8bf7-4c8c-af08-9386f70744fe"
      },
      "execution_count": 107,
      "outputs": [
        {
          "output_type": "stream",
          "name": "stdout",
          "text": [
            "                            OLS Regression Results                            \n",
            "==============================================================================\n",
            "Dep. Variable:                  sales   R-squared:                       0.930\n",
            "Model:                            OLS   Adj. R-squared:                  0.929\n",
            "Method:                 Least Squares   F-statistic:                     1012.\n",
            "Date:                Tue, 23 May 2023   Prob (F-statistic):               0.00\n",
            "Time:                        00:39:51   Log-Likelihood:                -5819.5\n",
            "No. Observations:                 700   AIC:                         1.166e+04\n",
            "Df Residuals:                     690   BIC:                         1.170e+04\n",
            "Df Model:                           9                                         \n",
            "Covariance Type:            nonrobust                                         \n",
            "==============================================================================\n",
            "                 coef    std err          t      P>|t|      [0.025      0.975]\n",
            "------------------------------------------------------------------------------\n",
            "const       9470.4866   1914.717      4.946      0.000    5711.116    1.32e+04\n",
            "x1             1.8437      0.793      2.324      0.020       0.286       3.401\n",
            "x2             2.3388      1.312      1.782      0.075      -0.238       4.915\n",
            "x3             0.0154      1.360      0.011      0.991      -2.655       2.686\n",
            "x4           196.5965      7.812     25.166      0.000     181.258     211.935\n",
            "x5            -1.5115      0.193     -7.814      0.000      -1.891      -1.132\n",
            "x6          -196.1545      7.602    -25.804      0.000    -211.080    -181.229\n",
            "x7             0.0046      0.001      7.622      0.000       0.003       0.006\n",
            "x8             0.0003      0.001      0.524      0.601      -0.001       0.002\n",
            "x9            -0.0007      0.001     -1.082      0.279      -0.002       0.001\n",
            "==============================================================================\n",
            "Omnibus:                        0.270   Durbin-Watson:                   2.090\n",
            "Prob(Omnibus):                  0.874   Jarque-Bera (JB):                0.359\n",
            "Skew:                          -0.032   Prob(JB):                        0.836\n",
            "Kurtosis:                       2.910   Cond. No.                     1.43e+08\n",
            "==============================================================================\n",
            "\n",
            "Notes:\n",
            "[1] Standard Errors assume that the covariance matrix of the errors is correctly specified.\n",
            "[2] The condition number is large, 1.43e+08. This might indicate that there are\n",
            "strong multicollinearity or other numerical problems.\n"
          ]
        }
      ]
    },
    {
      "cell_type": "code",
      "source": [
        "# Prepare test set\n",
        "X_test = sm.add_constant(np.column_stack((X_test.store, X_test.billboard, X_test.printout, X_test.sat, X_test.comp, X_test.price, X_test['store&bil'], X_test['store&pri'], X_test['bil&pri'])))\n"
      ],
      "metadata": {
        "id": "jSZ9vAbaB5Nl"
      },
      "execution_count": 108,
      "outputs": []
    },
    {
      "cell_type": "code",
      "source": [
        "# Predict sales with unseen data\n",
        "y_pred = results.predict(X_test)"
      ],
      "metadata": {
        "id": "UF9Uz1SoCe72"
      },
      "execution_count": 109,
      "outputs": []
    },
    {
      "cell_type": "code",
      "source": [
        "# Results Linear Regression Model\n",
        "mse = mean_squared_error(y_test, y_pred)\n",
        "r2 = results.rsquared\n",
        "mapd = mean_absolute_percentage_error(y_test, y_pred) * 100\n",
        "rmse = np.sqrt(mse)\n",
        "\n",
        "# Calculate AIC and BIC\n",
        "n = len(y_train)  # Number of samples\n",
        "k = X_train.shape[1]  # Number of features + 1 (including the constant)\n",
        "llf = results.llf  # Log-likelihood of the model\n",
        "\n",
        "aic = -2 * llf + 2 * k  # AIC\n",
        "bic = -2 * llf + np.log(n) * k  # BIC\n",
        "\n",
        "print(f\"Mean Squared Error (MSE): {mse:,.2f}\")\n",
        "print(f\"Root Mean Squared Error (RMSE): {rmse:,.2f}\")\n",
        "print(f\"R-squared (R2): {r2:.2f}\")\n",
        "print(f\"Mean Absolute Percentage Difference (MAPD): {mapd:.2f}\")\n",
        "print(f\"AIC: {aic:,.2f}\")\n",
        "print(f\"BIC: {bic:,.2f}\")"
      ],
      "metadata": {
        "colab": {
          "base_uri": "https://localhost:8080/"
        },
        "id": "JhtF4AJy_RRW",
        "outputId": "045e9784-de9c-4cc1-beed-05dc4f377a2b"
      },
      "execution_count": 119,
      "outputs": [
        {
          "output_type": "stream",
          "name": "stdout",
          "text": [
            "Mean Squared Error (MSE): 1,037,887.96\n",
            "Root Mean Squared Error (RMSE): 1,018.77\n",
            "R-squared (R2): 0.93\n",
            "Mean Absolute Percentage Difference (MAPD): 5.05\n",
            "AIC: 11,657.07\n",
            "BIC: 11,698.03\n"
          ]
        }
      ]
    },
    {
      "cell_type": "code",
      "source": [],
      "metadata": {
        "id": "h3qgkFzjDMzV"
      },
      "execution_count": null,
      "outputs": []
    }
  ]
}