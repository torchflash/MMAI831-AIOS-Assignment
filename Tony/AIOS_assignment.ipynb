{
  "nbformat": 4,
  "nbformat_minor": 0,
  "metadata": {
    "kernelspec": {
      "name": "python3",
      "display_name": "Python 3"
    },
    "colab": {
      "provenance": [],
      "collapsed_sections": [
        "sQU4FHbU-YSe",
        "3jMZpnlQE-S7",
        "oZmXoqgbWTOp",
        "6yKMVeGK6t-N",
        "MODSmxw4DhFy"
      ],
      "include_colab_link": true
    },
    "gpuClass": "standard",
    "accelerator": "GPU"
  },
  "cells": [
    {
      "cell_type": "markdown",
      "metadata": {
        "id": "view-in-github",
        "colab_type": "text"
      },
      "source": [
        "<a href=\"https://colab.research.google.com/github/torchflash/MMAI831-AIOS-Assignment/blob/main/Tony/AIOS_assignment.ipynb\" target=\"_parent\"><img src=\"https://colab.research.google.com/assets/colab-badge.svg\" alt=\"Open In Colab\"/></a>"
      ]
    },
    {
      "cell_type": "markdown",
      "source": [
        "# **1.Data Upload**"
      ],
      "metadata": {
        "id": "PYpTZ7rHiyNM"
      }
    },
    {
      "cell_type": "code",
      "execution_count": 47,
      "metadata": {
        "id": "3f2fe2d9"
      },
      "outputs": [],
      "source": [
        "import numpy as np\n",
        "import pandas as pd\n",
        "from sklearn.model_selection import train_test_split\n",
        "from sklearn.linear_model import LinearRegression, Ridge, Lasso\n",
        "import statsmodels.api as sm\n",
        "from sklearn.metrics import r2_score, mean_squared_error, mean_absolute_percentage_error\n",
        "from sklearn.ensemble import RandomForestRegressor\n",
        "from sklearn.svm import SVR\n",
        "from sklearn.preprocessing import StandardScaler\n",
        "from sklearn.neighbors import KNeighborsRegressor\n",
        "import lightgbm as lgb\n"
      ]
    },
    {
      "cell_type": "code",
      "source": [
        "csv_url = 'https://drive.google.com/uc?export=download&id=1GPlcEcdy3e6KtS5eiH4lhPV1OjCNwT8_'\n",
        "df = pd.read_csv(csv_url)\n",
        "df = df.drop(df.columns[0], axis=1)"
      ],
      "metadata": {
        "id": "M7xywNAgw8kj"
      },
      "execution_count": 22,
      "outputs": []
    },
    {
      "cell_type": "code",
      "source": [
        "seed = 831"
      ],
      "metadata": {
        "id": "fmtTJg1hxAnm"
      },
      "execution_count": 23,
      "outputs": []
    },
    {
      "cell_type": "code",
      "source": [
        "sales_train, sales_test = train_test_split(df, test_size=0.25, random_state=seed)"
      ],
      "metadata": {
        "id": "TPcAat5Evzxt"
      },
      "execution_count": 24,
      "outputs": []
    },
    {
      "cell_type": "code",
      "source": [
        "sales_train"
      ],
      "metadata": {
        "colab": {
          "base_uri": "https://localhost:8080/",
          "height": 423
        },
        "id": "vHIT1xQWxosM",
        "outputId": "4d68578c-f93f-4b41-83fa-769a6f8f0b88"
      },
      "execution_count": 25,
      "outputs": [
        {
          "output_type": "execute_result",
          "data": {
            "text/plain": [
              "     store  billboard  printout  sat  comp  price         sales\n",
              "247   2101       1051       795   74   907     92  20850.424070\n",
              "291   2045       1039      1131   69   918     91  20335.752820\n",
              "220   2223       1274       979   67   938     95  22065.397050\n",
              "840   1593        910       728   67  1022    103  11253.624270\n",
              "32    1822        704       606   67   594     98  12991.913740\n",
              "..     ...        ...       ...  ...   ...    ...           ...\n",
              "547   2048        810       792   68   919    108  14456.275280\n",
              "737   1925       1576       926   64   471     96  23297.637780\n",
              "9     1777       1111       340   72   758    108  15947.783620\n",
              "659   2127        219       773   70  1004     98   8936.227514\n",
              "90    1986       1075       317   66  1146     94  18442.392040\n",
              "\n",
              "[750 rows x 7 columns]"
            ],
            "text/html": [
              "\n",
              "  <div id=\"df-bc36195d-3b9b-494a-86b9-601f4e031ea5\">\n",
              "    <div class=\"colab-df-container\">\n",
              "      <div>\n",
              "<style scoped>\n",
              "    .dataframe tbody tr th:only-of-type {\n",
              "        vertical-align: middle;\n",
              "    }\n",
              "\n",
              "    .dataframe tbody tr th {\n",
              "        vertical-align: top;\n",
              "    }\n",
              "\n",
              "    .dataframe thead th {\n",
              "        text-align: right;\n",
              "    }\n",
              "</style>\n",
              "<table border=\"1\" class=\"dataframe\">\n",
              "  <thead>\n",
              "    <tr style=\"text-align: right;\">\n",
              "      <th></th>\n",
              "      <th>store</th>\n",
              "      <th>billboard</th>\n",
              "      <th>printout</th>\n",
              "      <th>sat</th>\n",
              "      <th>comp</th>\n",
              "      <th>price</th>\n",
              "      <th>sales</th>\n",
              "    </tr>\n",
              "  </thead>\n",
              "  <tbody>\n",
              "    <tr>\n",
              "      <th>247</th>\n",
              "      <td>2101</td>\n",
              "      <td>1051</td>\n",
              "      <td>795</td>\n",
              "      <td>74</td>\n",
              "      <td>907</td>\n",
              "      <td>92</td>\n",
              "      <td>20850.424070</td>\n",
              "    </tr>\n",
              "    <tr>\n",
              "      <th>291</th>\n",
              "      <td>2045</td>\n",
              "      <td>1039</td>\n",
              "      <td>1131</td>\n",
              "      <td>69</td>\n",
              "      <td>918</td>\n",
              "      <td>91</td>\n",
              "      <td>20335.752820</td>\n",
              "    </tr>\n",
              "    <tr>\n",
              "      <th>220</th>\n",
              "      <td>2223</td>\n",
              "      <td>1274</td>\n",
              "      <td>979</td>\n",
              "      <td>67</td>\n",
              "      <td>938</td>\n",
              "      <td>95</td>\n",
              "      <td>22065.397050</td>\n",
              "    </tr>\n",
              "    <tr>\n",
              "      <th>840</th>\n",
              "      <td>1593</td>\n",
              "      <td>910</td>\n",
              "      <td>728</td>\n",
              "      <td>67</td>\n",
              "      <td>1022</td>\n",
              "      <td>103</td>\n",
              "      <td>11253.624270</td>\n",
              "    </tr>\n",
              "    <tr>\n",
              "      <th>32</th>\n",
              "      <td>1822</td>\n",
              "      <td>704</td>\n",
              "      <td>606</td>\n",
              "      <td>67</td>\n",
              "      <td>594</td>\n",
              "      <td>98</td>\n",
              "      <td>12991.913740</td>\n",
              "    </tr>\n",
              "    <tr>\n",
              "      <th>...</th>\n",
              "      <td>...</td>\n",
              "      <td>...</td>\n",
              "      <td>...</td>\n",
              "      <td>...</td>\n",
              "      <td>...</td>\n",
              "      <td>...</td>\n",
              "      <td>...</td>\n",
              "    </tr>\n",
              "    <tr>\n",
              "      <th>547</th>\n",
              "      <td>2048</td>\n",
              "      <td>810</td>\n",
              "      <td>792</td>\n",
              "      <td>68</td>\n",
              "      <td>919</td>\n",
              "      <td>108</td>\n",
              "      <td>14456.275280</td>\n",
              "    </tr>\n",
              "    <tr>\n",
              "      <th>737</th>\n",
              "      <td>1925</td>\n",
              "      <td>1576</td>\n",
              "      <td>926</td>\n",
              "      <td>64</td>\n",
              "      <td>471</td>\n",
              "      <td>96</td>\n",
              "      <td>23297.637780</td>\n",
              "    </tr>\n",
              "    <tr>\n",
              "      <th>9</th>\n",
              "      <td>1777</td>\n",
              "      <td>1111</td>\n",
              "      <td>340</td>\n",
              "      <td>72</td>\n",
              "      <td>758</td>\n",
              "      <td>108</td>\n",
              "      <td>15947.783620</td>\n",
              "    </tr>\n",
              "    <tr>\n",
              "      <th>659</th>\n",
              "      <td>2127</td>\n",
              "      <td>219</td>\n",
              "      <td>773</td>\n",
              "      <td>70</td>\n",
              "      <td>1004</td>\n",
              "      <td>98</td>\n",
              "      <td>8936.227514</td>\n",
              "    </tr>\n",
              "    <tr>\n",
              "      <th>90</th>\n",
              "      <td>1986</td>\n",
              "      <td>1075</td>\n",
              "      <td>317</td>\n",
              "      <td>66</td>\n",
              "      <td>1146</td>\n",
              "      <td>94</td>\n",
              "      <td>18442.392040</td>\n",
              "    </tr>\n",
              "  </tbody>\n",
              "</table>\n",
              "<p>750 rows × 7 columns</p>\n",
              "</div>\n",
              "      <button class=\"colab-df-convert\" onclick=\"convertToInteractive('df-bc36195d-3b9b-494a-86b9-601f4e031ea5')\"\n",
              "              title=\"Convert this dataframe to an interactive table.\"\n",
              "              style=\"display:none;\">\n",
              "        \n",
              "  <svg xmlns=\"http://www.w3.org/2000/svg\" height=\"24px\"viewBox=\"0 0 24 24\"\n",
              "       width=\"24px\">\n",
              "    <path d=\"M0 0h24v24H0V0z\" fill=\"none\"/>\n",
              "    <path d=\"M18.56 5.44l.94 2.06.94-2.06 2.06-.94-2.06-.94-.94-2.06-.94 2.06-2.06.94zm-11 1L8.5 8.5l.94-2.06 2.06-.94-2.06-.94L8.5 2.5l-.94 2.06-2.06.94zm10 10l.94 2.06.94-2.06 2.06-.94-2.06-.94-.94-2.06-.94 2.06-2.06.94z\"/><path d=\"M17.41 7.96l-1.37-1.37c-.4-.4-.92-.59-1.43-.59-.52 0-1.04.2-1.43.59L10.3 9.45l-7.72 7.72c-.78.78-.78 2.05 0 2.83L4 21.41c.39.39.9.59 1.41.59.51 0 1.02-.2 1.41-.59l7.78-7.78 2.81-2.81c.8-.78.8-2.07 0-2.86zM5.41 20L4 18.59l7.72-7.72 1.47 1.35L5.41 20z\"/>\n",
              "  </svg>\n",
              "      </button>\n",
              "      \n",
              "  <style>\n",
              "    .colab-df-container {\n",
              "      display:flex;\n",
              "      flex-wrap:wrap;\n",
              "      gap: 12px;\n",
              "    }\n",
              "\n",
              "    .colab-df-convert {\n",
              "      background-color: #E8F0FE;\n",
              "      border: none;\n",
              "      border-radius: 50%;\n",
              "      cursor: pointer;\n",
              "      display: none;\n",
              "      fill: #1967D2;\n",
              "      height: 32px;\n",
              "      padding: 0 0 0 0;\n",
              "      width: 32px;\n",
              "    }\n",
              "\n",
              "    .colab-df-convert:hover {\n",
              "      background-color: #E2EBFA;\n",
              "      box-shadow: 0px 1px 2px rgba(60, 64, 67, 0.3), 0px 1px 3px 1px rgba(60, 64, 67, 0.15);\n",
              "      fill: #174EA6;\n",
              "    }\n",
              "\n",
              "    [theme=dark] .colab-df-convert {\n",
              "      background-color: #3B4455;\n",
              "      fill: #D2E3FC;\n",
              "    }\n",
              "\n",
              "    [theme=dark] .colab-df-convert:hover {\n",
              "      background-color: #434B5C;\n",
              "      box-shadow: 0px 1px 3px 1px rgba(0, 0, 0, 0.15);\n",
              "      filter: drop-shadow(0px 1px 2px rgba(0, 0, 0, 0.3));\n",
              "      fill: #FFFFFF;\n",
              "    }\n",
              "  </style>\n",
              "\n",
              "      <script>\n",
              "        const buttonEl =\n",
              "          document.querySelector('#df-bc36195d-3b9b-494a-86b9-601f4e031ea5 button.colab-df-convert');\n",
              "        buttonEl.style.display =\n",
              "          google.colab.kernel.accessAllowed ? 'block' : 'none';\n",
              "\n",
              "        async function convertToInteractive(key) {\n",
              "          const element = document.querySelector('#df-bc36195d-3b9b-494a-86b9-601f4e031ea5');\n",
              "          const dataTable =\n",
              "            await google.colab.kernel.invokeFunction('convertToInteractive',\n",
              "                                                     [key], {});\n",
              "          if (!dataTable) return;\n",
              "\n",
              "          const docLinkHtml = 'Like what you see? Visit the ' +\n",
              "            '<a target=\"_blank\" href=https://colab.research.google.com/notebooks/data_table.ipynb>data table notebook</a>'\n",
              "            + ' to learn more about interactive tables.';\n",
              "          element.innerHTML = '';\n",
              "          dataTable['output_type'] = 'display_data';\n",
              "          await google.colab.output.renderOutput(dataTable, element);\n",
              "          const docLink = document.createElement('div');\n",
              "          docLink.innerHTML = docLinkHtml;\n",
              "          element.appendChild(docLink);\n",
              "        }\n",
              "      </script>\n",
              "    </div>\n",
              "  </div>\n",
              "  "
            ]
          },
          "metadata": {},
          "execution_count": 25
        }
      ]
    },
    {
      "cell_type": "code",
      "source": [
        "sales_test"
      ],
      "metadata": {
        "colab": {
          "base_uri": "https://localhost:8080/",
          "height": 423
        },
        "id": "sGtR93x4v0Ic",
        "outputId": "cf83e92f-867c-4616-ce1b-5c7d68930cab"
      },
      "execution_count": 26,
      "outputs": [
        {
          "output_type": "execute_result",
          "data": {
            "text/plain": [
              "     store  billboard  printout  sat  comp  price        sales\n",
              "692   2142       1032       579   69   901    103  18446.99213\n",
              "805   2194        953       914   68   719    107  16403.58639\n",
              "627   1905       1185       851   68   705    100  20317.30926\n",
              "387   2078       1437       622   65   943     94  25472.98324\n",
              "51    1854       1122      1236   64   845     98  16533.62366\n",
              "..     ...        ...       ...  ...   ...    ...          ...\n",
              "716   1334        881       967   73  1024     96  12450.35271\n",
              "724   2030        799       846   72   544     96  17491.66005\n",
              "639   2316        867      1415   76   706    104  20622.98974\n",
              "175   1790       1255       571   64   715    100  16548.68130\n",
              "336   1932        937       777   64   655    101  15068.68946\n",
              "\n",
              "[250 rows x 7 columns]"
            ],
            "text/html": [
              "\n",
              "  <div id=\"df-88d3c971-4547-4b5b-8474-8f6d7c0b9b43\">\n",
              "    <div class=\"colab-df-container\">\n",
              "      <div>\n",
              "<style scoped>\n",
              "    .dataframe tbody tr th:only-of-type {\n",
              "        vertical-align: middle;\n",
              "    }\n",
              "\n",
              "    .dataframe tbody tr th {\n",
              "        vertical-align: top;\n",
              "    }\n",
              "\n",
              "    .dataframe thead th {\n",
              "        text-align: right;\n",
              "    }\n",
              "</style>\n",
              "<table border=\"1\" class=\"dataframe\">\n",
              "  <thead>\n",
              "    <tr style=\"text-align: right;\">\n",
              "      <th></th>\n",
              "      <th>store</th>\n",
              "      <th>billboard</th>\n",
              "      <th>printout</th>\n",
              "      <th>sat</th>\n",
              "      <th>comp</th>\n",
              "      <th>price</th>\n",
              "      <th>sales</th>\n",
              "    </tr>\n",
              "  </thead>\n",
              "  <tbody>\n",
              "    <tr>\n",
              "      <th>692</th>\n",
              "      <td>2142</td>\n",
              "      <td>1032</td>\n",
              "      <td>579</td>\n",
              "      <td>69</td>\n",
              "      <td>901</td>\n",
              "      <td>103</td>\n",
              "      <td>18446.99213</td>\n",
              "    </tr>\n",
              "    <tr>\n",
              "      <th>805</th>\n",
              "      <td>2194</td>\n",
              "      <td>953</td>\n",
              "      <td>914</td>\n",
              "      <td>68</td>\n",
              "      <td>719</td>\n",
              "      <td>107</td>\n",
              "      <td>16403.58639</td>\n",
              "    </tr>\n",
              "    <tr>\n",
              "      <th>627</th>\n",
              "      <td>1905</td>\n",
              "      <td>1185</td>\n",
              "      <td>851</td>\n",
              "      <td>68</td>\n",
              "      <td>705</td>\n",
              "      <td>100</td>\n",
              "      <td>20317.30926</td>\n",
              "    </tr>\n",
              "    <tr>\n",
              "      <th>387</th>\n",
              "      <td>2078</td>\n",
              "      <td>1437</td>\n",
              "      <td>622</td>\n",
              "      <td>65</td>\n",
              "      <td>943</td>\n",
              "      <td>94</td>\n",
              "      <td>25472.98324</td>\n",
              "    </tr>\n",
              "    <tr>\n",
              "      <th>51</th>\n",
              "      <td>1854</td>\n",
              "      <td>1122</td>\n",
              "      <td>1236</td>\n",
              "      <td>64</td>\n",
              "      <td>845</td>\n",
              "      <td>98</td>\n",
              "      <td>16533.62366</td>\n",
              "    </tr>\n",
              "    <tr>\n",
              "      <th>...</th>\n",
              "      <td>...</td>\n",
              "      <td>...</td>\n",
              "      <td>...</td>\n",
              "      <td>...</td>\n",
              "      <td>...</td>\n",
              "      <td>...</td>\n",
              "      <td>...</td>\n",
              "    </tr>\n",
              "    <tr>\n",
              "      <th>716</th>\n",
              "      <td>1334</td>\n",
              "      <td>881</td>\n",
              "      <td>967</td>\n",
              "      <td>73</td>\n",
              "      <td>1024</td>\n",
              "      <td>96</td>\n",
              "      <td>12450.35271</td>\n",
              "    </tr>\n",
              "    <tr>\n",
              "      <th>724</th>\n",
              "      <td>2030</td>\n",
              "      <td>799</td>\n",
              "      <td>846</td>\n",
              "      <td>72</td>\n",
              "      <td>544</td>\n",
              "      <td>96</td>\n",
              "      <td>17491.66005</td>\n",
              "    </tr>\n",
              "    <tr>\n",
              "      <th>639</th>\n",
              "      <td>2316</td>\n",
              "      <td>867</td>\n",
              "      <td>1415</td>\n",
              "      <td>76</td>\n",
              "      <td>706</td>\n",
              "      <td>104</td>\n",
              "      <td>20622.98974</td>\n",
              "    </tr>\n",
              "    <tr>\n",
              "      <th>175</th>\n",
              "      <td>1790</td>\n",
              "      <td>1255</td>\n",
              "      <td>571</td>\n",
              "      <td>64</td>\n",
              "      <td>715</td>\n",
              "      <td>100</td>\n",
              "      <td>16548.68130</td>\n",
              "    </tr>\n",
              "    <tr>\n",
              "      <th>336</th>\n",
              "      <td>1932</td>\n",
              "      <td>937</td>\n",
              "      <td>777</td>\n",
              "      <td>64</td>\n",
              "      <td>655</td>\n",
              "      <td>101</td>\n",
              "      <td>15068.68946</td>\n",
              "    </tr>\n",
              "  </tbody>\n",
              "</table>\n",
              "<p>250 rows × 7 columns</p>\n",
              "</div>\n",
              "      <button class=\"colab-df-convert\" onclick=\"convertToInteractive('df-88d3c971-4547-4b5b-8474-8f6d7c0b9b43')\"\n",
              "              title=\"Convert this dataframe to an interactive table.\"\n",
              "              style=\"display:none;\">\n",
              "        \n",
              "  <svg xmlns=\"http://www.w3.org/2000/svg\" height=\"24px\"viewBox=\"0 0 24 24\"\n",
              "       width=\"24px\">\n",
              "    <path d=\"M0 0h24v24H0V0z\" fill=\"none\"/>\n",
              "    <path d=\"M18.56 5.44l.94 2.06.94-2.06 2.06-.94-2.06-.94-.94-2.06-.94 2.06-2.06.94zm-11 1L8.5 8.5l.94-2.06 2.06-.94-2.06-.94L8.5 2.5l-.94 2.06-2.06.94zm10 10l.94 2.06.94-2.06 2.06-.94-2.06-.94-.94-2.06-.94 2.06-2.06.94z\"/><path d=\"M17.41 7.96l-1.37-1.37c-.4-.4-.92-.59-1.43-.59-.52 0-1.04.2-1.43.59L10.3 9.45l-7.72 7.72c-.78.78-.78 2.05 0 2.83L4 21.41c.39.39.9.59 1.41.59.51 0 1.02-.2 1.41-.59l7.78-7.78 2.81-2.81c.8-.78.8-2.07 0-2.86zM5.41 20L4 18.59l7.72-7.72 1.47 1.35L5.41 20z\"/>\n",
              "  </svg>\n",
              "      </button>\n",
              "      \n",
              "  <style>\n",
              "    .colab-df-container {\n",
              "      display:flex;\n",
              "      flex-wrap:wrap;\n",
              "      gap: 12px;\n",
              "    }\n",
              "\n",
              "    .colab-df-convert {\n",
              "      background-color: #E8F0FE;\n",
              "      border: none;\n",
              "      border-radius: 50%;\n",
              "      cursor: pointer;\n",
              "      display: none;\n",
              "      fill: #1967D2;\n",
              "      height: 32px;\n",
              "      padding: 0 0 0 0;\n",
              "      width: 32px;\n",
              "    }\n",
              "\n",
              "    .colab-df-convert:hover {\n",
              "      background-color: #E2EBFA;\n",
              "      box-shadow: 0px 1px 2px rgba(60, 64, 67, 0.3), 0px 1px 3px 1px rgba(60, 64, 67, 0.15);\n",
              "      fill: #174EA6;\n",
              "    }\n",
              "\n",
              "    [theme=dark] .colab-df-convert {\n",
              "      background-color: #3B4455;\n",
              "      fill: #D2E3FC;\n",
              "    }\n",
              "\n",
              "    [theme=dark] .colab-df-convert:hover {\n",
              "      background-color: #434B5C;\n",
              "      box-shadow: 0px 1px 3px 1px rgba(0, 0, 0, 0.15);\n",
              "      filter: drop-shadow(0px 1px 2px rgba(0, 0, 0, 0.3));\n",
              "      fill: #FFFFFF;\n",
              "    }\n",
              "  </style>\n",
              "\n",
              "      <script>\n",
              "        const buttonEl =\n",
              "          document.querySelector('#df-88d3c971-4547-4b5b-8474-8f6d7c0b9b43 button.colab-df-convert');\n",
              "        buttonEl.style.display =\n",
              "          google.colab.kernel.accessAllowed ? 'block' : 'none';\n",
              "\n",
              "        async function convertToInteractive(key) {\n",
              "          const element = document.querySelector('#df-88d3c971-4547-4b5b-8474-8f6d7c0b9b43');\n",
              "          const dataTable =\n",
              "            await google.colab.kernel.invokeFunction('convertToInteractive',\n",
              "                                                     [key], {});\n",
              "          if (!dataTable) return;\n",
              "\n",
              "          const docLinkHtml = 'Like what you see? Visit the ' +\n",
              "            '<a target=\"_blank\" href=https://colab.research.google.com/notebooks/data_table.ipynb>data table notebook</a>'\n",
              "            + ' to learn more about interactive tables.';\n",
              "          element.innerHTML = '';\n",
              "          dataTable['output_type'] = 'display_data';\n",
              "          await google.colab.output.renderOutput(dataTable, element);\n",
              "          const docLink = document.createElement('div');\n",
              "          docLink.innerHTML = docLinkHtml;\n",
              "          element.appendChild(docLink);\n",
              "        }\n",
              "      </script>\n",
              "    </div>\n",
              "  </div>\n",
              "  "
            ]
          },
          "metadata": {},
          "execution_count": 26
        }
      ]
    },
    {
      "cell_type": "code",
      "source": [
        "sales_train['store&sat'] = sales_train['store'] * sales_train['sat']\n",
        "sales_train['price&sat'] = sales_train['price'] * sales_train['sat']\n",
        "sales_train['store&price'] = sales_train['store'] * sales_train['price']\n"
      ],
      "metadata": {
        "id": "FnaskJ1HzMIv"
      },
      "execution_count": 27,
      "outputs": []
    },
    {
      "cell_type": "code",
      "source": [
        "sales_train"
      ],
      "metadata": {
        "colab": {
          "base_uri": "https://localhost:8080/",
          "height": 423
        },
        "id": "ZurYPXTizqOT",
        "outputId": "5315680a-5b70-4362-ff7b-322a2cb23efe"
      },
      "execution_count": 28,
      "outputs": [
        {
          "output_type": "execute_result",
          "data": {
            "text/plain": [
              "     store  billboard  printout  sat  comp  price         sales  store&sat  \\\n",
              "247   2101       1051       795   74   907     92  20850.424070     155474   \n",
              "291   2045       1039      1131   69   918     91  20335.752820     141105   \n",
              "220   2223       1274       979   67   938     95  22065.397050     148941   \n",
              "840   1593        910       728   67  1022    103  11253.624270     106731   \n",
              "32    1822        704       606   67   594     98  12991.913740     122074   \n",
              "..     ...        ...       ...  ...   ...    ...           ...        ...   \n",
              "547   2048        810       792   68   919    108  14456.275280     139264   \n",
              "737   1925       1576       926   64   471     96  23297.637780     123200   \n",
              "9     1777       1111       340   72   758    108  15947.783620     127944   \n",
              "659   2127        219       773   70  1004     98   8936.227514     148890   \n",
              "90    1986       1075       317   66  1146     94  18442.392040     131076   \n",
              "\n",
              "     price&sat  store&price  \n",
              "247       6808       193292  \n",
              "291       6279       186095  \n",
              "220       6365       211185  \n",
              "840       6901       164079  \n",
              "32        6566       178556  \n",
              "..         ...          ...  \n",
              "547       7344       221184  \n",
              "737       6144       184800  \n",
              "9         7776       191916  \n",
              "659       6860       208446  \n",
              "90        6204       186684  \n",
              "\n",
              "[750 rows x 10 columns]"
            ],
            "text/html": [
              "\n",
              "  <div id=\"df-1fb52151-8650-471a-b657-d29220863ffe\">\n",
              "    <div class=\"colab-df-container\">\n",
              "      <div>\n",
              "<style scoped>\n",
              "    .dataframe tbody tr th:only-of-type {\n",
              "        vertical-align: middle;\n",
              "    }\n",
              "\n",
              "    .dataframe tbody tr th {\n",
              "        vertical-align: top;\n",
              "    }\n",
              "\n",
              "    .dataframe thead th {\n",
              "        text-align: right;\n",
              "    }\n",
              "</style>\n",
              "<table border=\"1\" class=\"dataframe\">\n",
              "  <thead>\n",
              "    <tr style=\"text-align: right;\">\n",
              "      <th></th>\n",
              "      <th>store</th>\n",
              "      <th>billboard</th>\n",
              "      <th>printout</th>\n",
              "      <th>sat</th>\n",
              "      <th>comp</th>\n",
              "      <th>price</th>\n",
              "      <th>sales</th>\n",
              "      <th>store&amp;sat</th>\n",
              "      <th>price&amp;sat</th>\n",
              "      <th>store&amp;price</th>\n",
              "    </tr>\n",
              "  </thead>\n",
              "  <tbody>\n",
              "    <tr>\n",
              "      <th>247</th>\n",
              "      <td>2101</td>\n",
              "      <td>1051</td>\n",
              "      <td>795</td>\n",
              "      <td>74</td>\n",
              "      <td>907</td>\n",
              "      <td>92</td>\n",
              "      <td>20850.424070</td>\n",
              "      <td>155474</td>\n",
              "      <td>6808</td>\n",
              "      <td>193292</td>\n",
              "    </tr>\n",
              "    <tr>\n",
              "      <th>291</th>\n",
              "      <td>2045</td>\n",
              "      <td>1039</td>\n",
              "      <td>1131</td>\n",
              "      <td>69</td>\n",
              "      <td>918</td>\n",
              "      <td>91</td>\n",
              "      <td>20335.752820</td>\n",
              "      <td>141105</td>\n",
              "      <td>6279</td>\n",
              "      <td>186095</td>\n",
              "    </tr>\n",
              "    <tr>\n",
              "      <th>220</th>\n",
              "      <td>2223</td>\n",
              "      <td>1274</td>\n",
              "      <td>979</td>\n",
              "      <td>67</td>\n",
              "      <td>938</td>\n",
              "      <td>95</td>\n",
              "      <td>22065.397050</td>\n",
              "      <td>148941</td>\n",
              "      <td>6365</td>\n",
              "      <td>211185</td>\n",
              "    </tr>\n",
              "    <tr>\n",
              "      <th>840</th>\n",
              "      <td>1593</td>\n",
              "      <td>910</td>\n",
              "      <td>728</td>\n",
              "      <td>67</td>\n",
              "      <td>1022</td>\n",
              "      <td>103</td>\n",
              "      <td>11253.624270</td>\n",
              "      <td>106731</td>\n",
              "      <td>6901</td>\n",
              "      <td>164079</td>\n",
              "    </tr>\n",
              "    <tr>\n",
              "      <th>32</th>\n",
              "      <td>1822</td>\n",
              "      <td>704</td>\n",
              "      <td>606</td>\n",
              "      <td>67</td>\n",
              "      <td>594</td>\n",
              "      <td>98</td>\n",
              "      <td>12991.913740</td>\n",
              "      <td>122074</td>\n",
              "      <td>6566</td>\n",
              "      <td>178556</td>\n",
              "    </tr>\n",
              "    <tr>\n",
              "      <th>...</th>\n",
              "      <td>...</td>\n",
              "      <td>...</td>\n",
              "      <td>...</td>\n",
              "      <td>...</td>\n",
              "      <td>...</td>\n",
              "      <td>...</td>\n",
              "      <td>...</td>\n",
              "      <td>...</td>\n",
              "      <td>...</td>\n",
              "      <td>...</td>\n",
              "    </tr>\n",
              "    <tr>\n",
              "      <th>547</th>\n",
              "      <td>2048</td>\n",
              "      <td>810</td>\n",
              "      <td>792</td>\n",
              "      <td>68</td>\n",
              "      <td>919</td>\n",
              "      <td>108</td>\n",
              "      <td>14456.275280</td>\n",
              "      <td>139264</td>\n",
              "      <td>7344</td>\n",
              "      <td>221184</td>\n",
              "    </tr>\n",
              "    <tr>\n",
              "      <th>737</th>\n",
              "      <td>1925</td>\n",
              "      <td>1576</td>\n",
              "      <td>926</td>\n",
              "      <td>64</td>\n",
              "      <td>471</td>\n",
              "      <td>96</td>\n",
              "      <td>23297.637780</td>\n",
              "      <td>123200</td>\n",
              "      <td>6144</td>\n",
              "      <td>184800</td>\n",
              "    </tr>\n",
              "    <tr>\n",
              "      <th>9</th>\n",
              "      <td>1777</td>\n",
              "      <td>1111</td>\n",
              "      <td>340</td>\n",
              "      <td>72</td>\n",
              "      <td>758</td>\n",
              "      <td>108</td>\n",
              "      <td>15947.783620</td>\n",
              "      <td>127944</td>\n",
              "      <td>7776</td>\n",
              "      <td>191916</td>\n",
              "    </tr>\n",
              "    <tr>\n",
              "      <th>659</th>\n",
              "      <td>2127</td>\n",
              "      <td>219</td>\n",
              "      <td>773</td>\n",
              "      <td>70</td>\n",
              "      <td>1004</td>\n",
              "      <td>98</td>\n",
              "      <td>8936.227514</td>\n",
              "      <td>148890</td>\n",
              "      <td>6860</td>\n",
              "      <td>208446</td>\n",
              "    </tr>\n",
              "    <tr>\n",
              "      <th>90</th>\n",
              "      <td>1986</td>\n",
              "      <td>1075</td>\n",
              "      <td>317</td>\n",
              "      <td>66</td>\n",
              "      <td>1146</td>\n",
              "      <td>94</td>\n",
              "      <td>18442.392040</td>\n",
              "      <td>131076</td>\n",
              "      <td>6204</td>\n",
              "      <td>186684</td>\n",
              "    </tr>\n",
              "  </tbody>\n",
              "</table>\n",
              "<p>750 rows × 10 columns</p>\n",
              "</div>\n",
              "      <button class=\"colab-df-convert\" onclick=\"convertToInteractive('df-1fb52151-8650-471a-b657-d29220863ffe')\"\n",
              "              title=\"Convert this dataframe to an interactive table.\"\n",
              "              style=\"display:none;\">\n",
              "        \n",
              "  <svg xmlns=\"http://www.w3.org/2000/svg\" height=\"24px\"viewBox=\"0 0 24 24\"\n",
              "       width=\"24px\">\n",
              "    <path d=\"M0 0h24v24H0V0z\" fill=\"none\"/>\n",
              "    <path d=\"M18.56 5.44l.94 2.06.94-2.06 2.06-.94-2.06-.94-.94-2.06-.94 2.06-2.06.94zm-11 1L8.5 8.5l.94-2.06 2.06-.94-2.06-.94L8.5 2.5l-.94 2.06-2.06.94zm10 10l.94 2.06.94-2.06 2.06-.94-2.06-.94-.94-2.06-.94 2.06-2.06.94z\"/><path d=\"M17.41 7.96l-1.37-1.37c-.4-.4-.92-.59-1.43-.59-.52 0-1.04.2-1.43.59L10.3 9.45l-7.72 7.72c-.78.78-.78 2.05 0 2.83L4 21.41c.39.39.9.59 1.41.59.51 0 1.02-.2 1.41-.59l7.78-7.78 2.81-2.81c.8-.78.8-2.07 0-2.86zM5.41 20L4 18.59l7.72-7.72 1.47 1.35L5.41 20z\"/>\n",
              "  </svg>\n",
              "      </button>\n",
              "      \n",
              "  <style>\n",
              "    .colab-df-container {\n",
              "      display:flex;\n",
              "      flex-wrap:wrap;\n",
              "      gap: 12px;\n",
              "    }\n",
              "\n",
              "    .colab-df-convert {\n",
              "      background-color: #E8F0FE;\n",
              "      border: none;\n",
              "      border-radius: 50%;\n",
              "      cursor: pointer;\n",
              "      display: none;\n",
              "      fill: #1967D2;\n",
              "      height: 32px;\n",
              "      padding: 0 0 0 0;\n",
              "      width: 32px;\n",
              "    }\n",
              "\n",
              "    .colab-df-convert:hover {\n",
              "      background-color: #E2EBFA;\n",
              "      box-shadow: 0px 1px 2px rgba(60, 64, 67, 0.3), 0px 1px 3px 1px rgba(60, 64, 67, 0.15);\n",
              "      fill: #174EA6;\n",
              "    }\n",
              "\n",
              "    [theme=dark] .colab-df-convert {\n",
              "      background-color: #3B4455;\n",
              "      fill: #D2E3FC;\n",
              "    }\n",
              "\n",
              "    [theme=dark] .colab-df-convert:hover {\n",
              "      background-color: #434B5C;\n",
              "      box-shadow: 0px 1px 3px 1px rgba(0, 0, 0, 0.15);\n",
              "      filter: drop-shadow(0px 1px 2px rgba(0, 0, 0, 0.3));\n",
              "      fill: #FFFFFF;\n",
              "    }\n",
              "  </style>\n",
              "\n",
              "      <script>\n",
              "        const buttonEl =\n",
              "          document.querySelector('#df-1fb52151-8650-471a-b657-d29220863ffe button.colab-df-convert');\n",
              "        buttonEl.style.display =\n",
              "          google.colab.kernel.accessAllowed ? 'block' : 'none';\n",
              "\n",
              "        async function convertToInteractive(key) {\n",
              "          const element = document.querySelector('#df-1fb52151-8650-471a-b657-d29220863ffe');\n",
              "          const dataTable =\n",
              "            await google.colab.kernel.invokeFunction('convertToInteractive',\n",
              "                                                     [key], {});\n",
              "          if (!dataTable) return;\n",
              "\n",
              "          const docLinkHtml = 'Like what you see? Visit the ' +\n",
              "            '<a target=\"_blank\" href=https://colab.research.google.com/notebooks/data_table.ipynb>data table notebook</a>'\n",
              "            + ' to learn more about interactive tables.';\n",
              "          element.innerHTML = '';\n",
              "          dataTable['output_type'] = 'display_data';\n",
              "          await google.colab.output.renderOutput(dataTable, element);\n",
              "          const docLink = document.createElement('div');\n",
              "          docLink.innerHTML = docLinkHtml;\n",
              "          element.appendChild(docLink);\n",
              "        }\n",
              "      </script>\n",
              "    </div>\n",
              "  </div>\n",
              "  "
            ]
          },
          "metadata": {},
          "execution_count": 28
        }
      ]
    },
    {
      "cell_type": "code",
      "source": [
        "X_train = sales_train[['store', 'billboard', 'printout', 'sat', 'comp', 'price','store&sat','price&sat','store&price']]\n",
        "y_train = sales_train['sales']\n",
        "X_train = sm.add_constant(X_train)"
      ],
      "metadata": {
        "id": "8qMIMacA0XsW"
      },
      "execution_count": 29,
      "outputs": []
    },
    {
      "cell_type": "code",
      "source": [
        "sales_test['store&sat'] = sales_test['store'] * sales_test['sat']\n",
        "sales_test['price&sat'] = sales_test['price'] * sales_test['sat']\n",
        "sales_test['store&price'] = sales_test['store'] * sales_test['price']"
      ],
      "metadata": {
        "id": "_YJzXdQK1lh-"
      },
      "execution_count": 30,
      "outputs": []
    },
    {
      "cell_type": "markdown",
      "source": [
        "# **1.Linear Regression**"
      ],
      "metadata": {
        "id": "0wHUYvPoi3KD"
      }
    },
    {
      "cell_type": "code",
      "source": [
        "model1 = sm.OLS(y_train, X_train)"
      ],
      "metadata": {
        "id": "-ax27EuU4cC6"
      },
      "execution_count": 31,
      "outputs": []
    },
    {
      "cell_type": "code",
      "source": [
        "results1 = model1.fit()"
      ],
      "metadata": {
        "id": "Q4-fiF2t4cum"
      },
      "execution_count": 32,
      "outputs": []
    },
    {
      "cell_type": "code",
      "source": [
        "X_test = sales_test[['store', 'billboard', 'printout', 'sat', 'comp', 'price','store&sat','price&sat','store&price']]\n",
        "y_test = sales_test['sales']\n",
        "X_test = sm.add_constant(X_test)"
      ],
      "metadata": {
        "id": "pURpqHgt1w8A"
      },
      "execution_count": 33,
      "outputs": []
    },
    {
      "cell_type": "code",
      "source": [
        "y_pred = results1.predict(X_test)"
      ],
      "metadata": {
        "id": "7l7P-Bgb16Cw"
      },
      "execution_count": 34,
      "outputs": []
    },
    {
      "cell_type": "code",
      "source": [
        "mse = mean_squared_error(y_test, y_pred)\n",
        "r2 = results1.rsquared\n",
        "mapd = mean_absolute_percentage_error(y_test, y_pred) * 100\n",
        "\n",
        "# Calculate AIC and BIC\n",
        "n = len(y_train)  # Number of samples\n",
        "k = X_train.shape[1]  # Number of features + 1 (including the constant)\n",
        "llf = results1.llf  # Log-likelihood of the model\n",
        "\n",
        "aic = -2 * llf + 2 * k  # AIC\n",
        "bic = -2 * llf + np.log(n) * k  # BIC\n",
        "\n",
        "print(f\"Mean Squared Error (MSE): {mse}\")\n",
        "print(f\"R-squared (R2): {r2}\")\n",
        "print(f\"Mean Absolute Percentage Difference (MAPD): {mapd}\")\n",
        "print(f\"AIC: {aic}\")\n",
        "print(f\"BIC: {bic}\")"
      ],
      "metadata": {
        "colab": {
          "base_uri": "https://localhost:8080/"
        },
        "id": "APG8nSpt1_oo",
        "outputId": "bf5110fe-ea97-4d39-891b-00cd8d6fe569"
      },
      "execution_count": 35,
      "outputs": [
        {
          "output_type": "stream",
          "name": "stdout",
          "text": [
            "Mean Squared Error (MSE): 1165544.2746332064\n",
            "R-squared (R2): 0.9188468924312454\n",
            "Mean Absolute Percentage Difference (MAPD): 5.169938056984556\n",
            "AIC: 12544.289452535419\n",
            "BIC: 12590.490184600721\n"
          ]
        }
      ]
    },
    {
      "cell_type": "markdown",
      "source": [
        "# **2.Random Forest**"
      ],
      "metadata": {
        "id": "w4Ho4EGzi8-l"
      }
    },
    {
      "cell_type": "code",
      "source": [
        "model2 = RandomForestRegressor()\n",
        "\n",
        "# Train the model\n",
        "model2.fit(X_train, y_train)\n",
        "\n",
        "# Make predictions on the test set\n",
        "y_pred = model2.predict(X_test)\n",
        "\n",
        "# Evaluate the model\n",
        "mse = mean_squared_error(y_test, y_pred)\n",
        "r2 = r2_score(y_test, y_pred)\n",
        "mapd = mean_absolute_percentage_error(y_test, y_pred) * 100\n",
        "\n",
        "print(f\"Mean Squared Error (MSE): {mse}\")\n",
        "print(f\"R-squared (R2): {r2}\")\n",
        "print(f\"Mean Absolute Percentage Difference (MAPD): {mapd}\")"
      ],
      "metadata": {
        "colab": {
          "base_uri": "https://localhost:8080/"
        },
        "id": "nFUQ49QmkSvv",
        "outputId": "02124e2d-12ba-4f59-8c0c-42d631e5b848"
      },
      "execution_count": 36,
      "outputs": [
        {
          "output_type": "stream",
          "name": "stdout",
          "text": [
            "Mean Squared Error (MSE): 1763954.7358419453\n",
            "R-squared (R2): 0.8844379089048081\n",
            "Mean Absolute Percentage Difference (MAPD): 6.2076091362936205\n"
          ]
        }
      ]
    },
    {
      "cell_type": "markdown",
      "source": [
        "# **3.SVM**"
      ],
      "metadata": {
        "id": "BZE7VIGvl81x"
      }
    },
    {
      "cell_type": "code",
      "source": [
        "model3 = SVR()\n",
        "\n",
        "# Train the model\n",
        "model3.fit(X_train, y_train)\n",
        "\n",
        "# Make predictions on the test set\n",
        "y_pred = model3.predict(X_test)\n",
        "\n",
        "# Evaluate the model\n",
        "mse = mean_squared_error(y_test, y_pred)\n",
        "r2 = r2_score(y_test, y_pred)\n",
        "mapd = mean_absolute_percentage_error(y_test, y_pred) * 100\n",
        "\n",
        "print(f\"Mean Squared Error (MSE): {mse}\")\n",
        "print(f\"R-squared (R2): {r2}\")\n",
        "print(f\"Mean Absolute Percentage Difference (MAPD): {mapd}\")"
      ],
      "metadata": {
        "colab": {
          "base_uri": "https://localhost:8080/"
        },
        "id": "CcTFi5wPlvcU",
        "outputId": "d8c29203-6898-4f18-c1be-8f09345846da"
      },
      "execution_count": 37,
      "outputs": [
        {
          "output_type": "stream",
          "name": "stdout",
          "text": [
            "Mean Squared Error (MSE): 15469806.648235802\n",
            "R-squared (R2): -0.013474534682513362\n",
            "Mean Absolute Percentage Difference (MAPD): 18.5553118259976\n"
          ]
        }
      ]
    },
    {
      "cell_type": "markdown",
      "source": [
        "# **4.Ridge**"
      ],
      "metadata": {
        "id": "H3MgKLVitPkF"
      }
    },
    {
      "cell_type": "code",
      "source": [
        "model4 = Ridge()\n",
        "\n",
        "# Train the model\n",
        "model4.fit(X_train, y_train)\n",
        "\n",
        "# Make predictions on the test set\n",
        "y_pred = model4.predict(X_test)\n",
        "\n",
        "# Evaluate the model\n",
        "mse = mean_squared_error(y_test, y_pred)\n",
        "r2 = r2_score(y_test, y_pred)\n",
        "mapd = mean_absolute_percentage_error(y_test, y_pred) * 100\n",
        "\n",
        "print(f\"Mean Squared Error (MSE): {mse}\")\n",
        "print(f\"R-squared (R2): {r2}\")\n",
        "print(f\"Mean Absolute Percentage Difference (MAPD): {mapd}\")"
      ],
      "metadata": {
        "colab": {
          "base_uri": "https://localhost:8080/"
        },
        "id": "6u9lMPbMtPZT",
        "outputId": "0f14de42-f6f0-4850-d5a9-1eb5400e0c65"
      },
      "execution_count": 38,
      "outputs": [
        {
          "output_type": "stream",
          "name": "stdout",
          "text": [
            "Mean Squared Error (MSE): 1165459.3755836473\n",
            "R-squared (R2): 0.9236471776784805\n",
            "Mean Absolute Percentage Difference (MAPD): 5.169856425173428\n"
          ]
        }
      ]
    },
    {
      "cell_type": "markdown",
      "source": [
        "# **5.Lasso**"
      ],
      "metadata": {
        "id": "WVYff5qpuQyp"
      }
    },
    {
      "cell_type": "code",
      "source": [
        "# Standardize the features\n",
        "scaler = StandardScaler()\n",
        "X_train_scaled = scaler.fit_transform(X_train)\n",
        "X_test_scaled = scaler.transform(X_test)\n",
        "\n",
        "# Create a Lasso regression model\n",
        "model5 = Lasso(alpha=0.1)  # Adjust the value of alpha as needed\n",
        "\n",
        "# Train the model\n",
        "model5.fit(X_train_scaled, y_train)\n",
        "\n",
        "# Make predictions on the test set\n",
        "y_pred = model5.predict(X_test_scaled)\n",
        "\n",
        "# Evaluate the model\n",
        "mse = mean_squared_error(y_test, y_pred)\n",
        "r2 = r2_score(y_test, y_pred)\n",
        "mapd = mean_absolute_percentage_error(y_test, y_pred) * 100\n",
        "\n",
        "# Calculate AIC and BIC\n",
        "n = len(y_test)\n",
        "p = len(X_test.columns)\n",
        "rss = np.sum((y_test - y_pred) ** 2)\n",
        "aic = n * np.log(rss/n) + 2 * p\n",
        "bic = n * np.log(rss/n) + p * np.log(n)\n",
        "\n",
        "print(f\"AIC: {aic}\")\n",
        "print(f\"BIC: {bic}\")\n",
        "print(f\"R-squared (R2): {r2}\")\n",
        "print(f\"Mean Squared Error (MSE): {mse}\")\n",
        "print(f\"Mean Absolute Percentage Difference (MAPD): {mapd}\")"
      ],
      "metadata": {
        "colab": {
          "base_uri": "https://localhost:8080/"
        },
        "id": "BHMzDabquVm9",
        "outputId": "d8d5fa98-8667-47a1-b3ac-ca4cb3d27d36"
      },
      "execution_count": 43,
      "outputs": [
        {
          "output_type": "stream",
          "name": "stdout",
          "text": [
            "AIC: 3512.01301020822\n",
            "BIC: 3547.2276193868424\n",
            "R-squared (R2): 0.9236909794310645\n",
            "Mean Squared Error (MSE): 1164790.7799553012\n",
            "Mean Absolute Percentage Difference (MAPD): 5.17165042175985\n"
          ]
        },
        {
          "output_type": "stream",
          "name": "stderr",
          "text": [
            "/usr/local/lib/python3.10/dist-packages/sklearn/linear_model/_coordinate_descent.py:631: ConvergenceWarning: Objective did not converge. You might want to increase the number of iterations, check the scale of the features or consider increasing regularisation. Duality gap: 1.824e+08, tolerance: 9.674e+05\n",
            "  model = cd_fast.enet_coordinate_descent(\n"
          ]
        }
      ]
    },
    {
      "cell_type": "markdown",
      "source": [
        "# **6.KNN**"
      ],
      "metadata": {
        "id": "44aZnb2wwq7j"
      }
    },
    {
      "cell_type": "code",
      "source": [
        "model6 = KNeighborsRegressor(n_neighbors=5)  # Adjust the value of n_neighbors as needed\n",
        "\n",
        "# Train the model\n",
        "model6.fit(X_train, y_train)\n",
        "\n",
        "# Make predictions on the test set\n",
        "y_pred = model6.predict(X_test)\n",
        "\n",
        "# Evaluate the model\n",
        "mse = mean_squared_error(y_test, y_pred)\n",
        "r2 = r2_score(y_test, y_pred)\n",
        "mapd = mean_absolute_percentage_error(y_test, y_pred) * 100\n",
        "\n",
        "print(f\"R-squared (R2): {r2}\")\n",
        "print(f\"Mean Squared Error (MSE): {mse}\")\n",
        "print(f\"Mean Absolute Percentage Difference (MAPD): {mapd}\")"
      ],
      "metadata": {
        "colab": {
          "base_uri": "https://localhost:8080/"
        },
        "id": "7KhzrMYawtN6",
        "outputId": "132b5614-5888-470f-a9ff-7ee8cab495a3"
      },
      "execution_count": 45,
      "outputs": [
        {
          "output_type": "stream",
          "name": "stdout",
          "text": [
            "R-squared (R2): 0.2818406092686023\n",
            "Mean Squared Error (MSE): 10962078.016799763\n",
            "Mean Absolute Percentage Difference (MAPD): 15.869091240288535\n"
          ]
        }
      ]
    },
    {
      "cell_type": "markdown",
      "source": [
        "# **7.LightGBM**"
      ],
      "metadata": {
        "id": "kYPoAtszyMrl"
      }
    },
    {
      "cell_type": "code",
      "source": [
        "# Create a LightGBM regression model\n",
        "model7 = lgb.LGBMRegressor()\n",
        "\n",
        "# Train the model\n",
        "model7.fit(X_train, y_train)\n",
        "\n",
        "# Make predictions on the test set\n",
        "y_pred = model7.predict(X_test)\n",
        "\n",
        "# Evaluate the model\n",
        "mse = mean_squared_error(y_test, y_pred)\n",
        "r2 = r2_score(y_test, y_pred)\n",
        "mapd = mean_absolute_percentage_error(y_test, y_pred) * 100\n",
        "\n",
        "print(f\"R-squared (R2): {r2}\")\n",
        "print(f\"Mean Squared Error (MSE): {mse}\")\n",
        "print(f\"Mean Absolute Percentage Difference (MAPD): {mapd}\")"
      ],
      "metadata": {
        "colab": {
          "base_uri": "https://localhost:8080/"
        },
        "id": "jQA9iAK2yM5X",
        "outputId": "43ef533d-8384-43ee-8844-848e6c032b9d"
      },
      "execution_count": 48,
      "outputs": [
        {
          "output_type": "stream",
          "name": "stdout",
          "text": [
            "R-squared (R2): 0.8904022818285557\n",
            "Mean Squared Error (MSE): 1672913.7745243988\n",
            "Mean Absolute Percentage Difference (MAPD): 5.830810487373542\n"
          ]
        }
      ]
    }
  ]
}