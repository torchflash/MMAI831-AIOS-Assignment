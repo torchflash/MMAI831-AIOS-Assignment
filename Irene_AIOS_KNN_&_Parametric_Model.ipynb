{
  "nbformat": 4,
  "nbformat_minor": 0,
  "metadata": {
    "colab": {
      "provenance": [],
      "authorship_tag": "ABX9TyNbQx8R7ZbGXax+Cgqo66sj",
      "include_colab_link": true
    },
    "kernelspec": {
      "name": "python3",
      "display_name": "Python 3"
    },
    "language_info": {
      "name": "python"
    }
  },
  "cells": [
    {
      "cell_type": "markdown",
      "metadata": {
        "id": "view-in-github",
        "colab_type": "text"
      },
      "source": [
        "<a href=\"https://colab.research.google.com/github/torchflash/MMAI831-AIOS-Assignment/blob/main/Irene_AIOS_KNN_%26_Parametric_Model.ipynb\" target=\"_parent\"><img src=\"https://colab.research.google.com/assets/colab-badge.svg\" alt=\"Open In Colab\"/></a>"
      ]
    },
    {
      "cell_type": "markdown",
      "source": [
        "Objective: To build parametric and machine learning models for predicting sales volume using various independent variables, and to discuss the advantages and disadvantages of each model in terms of inference, predictability, and the estimation process.\n",
        "Dataset: The dataset \"MMM_store sales.xlsx\" contains information about sales volume and the independent variables of interest, including In Store Advertising ($), Billboard Advertising ($), Print Advertising ($), and control variables such as Price ($), Satisfaction, and Competitor Advertising ($).\n",
        "Details:\n",
        "\tYou can do the analysis in any software of your choice.\n",
        "\tUse tables, figures and other visuals to increase the readability and effectiveness of your report. \n",
        "\tSubmit only one assignment for your team via Dropbox. Any team member can make the submission. Make sure to have all team members' names on the report.\n"
      ],
      "metadata": {
        "id": "56yYK07MTWJ8"
      }
    },
    {
      "cell_type": "code",
      "source": [
        "import pandas as pd\n",
        "\n",
        "# Load the dataset\n",
        "data = pd.read_excel(\"/content/MMM_Store sales.xlsx\")\n",
        "\n",
        "# Display the first few rows of the dataset\n",
        "print(data.head())\n"
      ],
      "metadata": {
        "colab": {
          "base_uri": "https://localhost:8080/"
        },
        "id": "1T9YpYBVRrSJ",
        "outputId": "6a63eafe-9a6a-48ce-836e-808e8cf04689"
      },
      "execution_count": 1,
      "outputs": [
        {
          "output_type": "stream",
          "name": "stdout",
          "text": [
            "   Month  In store advertising ($)  billboard Advertising ($)  \\\n",
            "0      1                      1698                        698   \n",
            "1      2                      2069                       1075   \n",
            "2      3                      2271                        615   \n",
            "3      4                      1413                       1158   \n",
            "4      5                      2107                       1175   \n",
            "\n",
            "   Print Advertising ($)  Satisfaction  Competitor Adversiting ($)  Price ($)  \\\n",
            "0                    556            68                         607         95   \n",
            "1                    775            72                         637        101   \n",
            "2                    772            71                         761         95   \n",
            "3                   1098            79                        1183         98   \n",
            "4                    386            77                         940         97   \n",
            "\n",
            "      Sales ($)  \n",
            "0  13605.611909  \n",
            "1  19142.673338  \n",
            "2  15027.623400  \n",
            "3  16589.659102  \n",
            "4  21887.582100  \n"
          ]
        }
      ]
    },
    {
      "cell_type": "code",
      "source": [
        "import pandas as pd\n",
        "import numpy as np\n",
        "from sklearn.linear_model import LinearRegression\n",
        "from sklearn.neighbors import KNeighborsRegressor\n",
        "from sklearn.metrics import r2_score, mean_squared_error\n",
        "\n",
        "# Load the dataset\n",
        "data = pd.read_excel(\"/content/MMM_Store sales.xlsx\")\n",
        "\n",
        "# Split the dataset into training and testing sets\n",
        "train_size = int(0.75 * len(data))\n",
        "sales_train = data[:train_size]\n",
        "sales_test = data[train_size:]\n",
        "\n",
        "# Split the training set into independent variables (X_train) and dependent variable (y_train)\n",
        "X_train = sales_train[['In store advertising ($)', 'billboard Advertising ($)', 'Print Advertising ($)', 'Price ($)', 'Satisfaction', 'Competitor Adversiting ($)']]\n",
        "y_train = sales_train['Sales ($)']\n",
        "\n",
        "# Split the testing set into independent variables (X_test) and dependent variable (y_test)\n",
        "X_test = sales_test[['In store advertising ($)', 'billboard Advertising ($)', 'Print Advertising ($)', 'Price ($)', 'Satisfaction', 'Competitor Adversiting ($)']]\n",
        "y_test = sales_test['Sales ($)']\n",
        "\n",
        "\n"
      ],
      "metadata": {
        "id": "3bx3KlEJUMoA"
      },
      "execution_count": 2,
      "outputs": []
    },
    {
      "cell_type": "code",
      "source": [
        "# Split the dataset into training and testing sets\n",
        "train_size = int(0.75 * len(data))\n",
        "sales_train = data[:train_size]\n",
        "sales_test = data[train_size:]\n",
        "\n",
        "# Split the training set into independent variables (X_train) and dependent variable (y_train)\n",
        "X_train = sales_train[['In store advertising ($)', 'billboard Advertising ($)', 'Print Advertising ($)', 'Price ($)', 'Satisfaction', 'Competitor Adversiting ($)']]\n",
        "y_train = sales_train['Sales ($)']\n",
        "\n",
        "# Split the testing set into independent variables (X_test) and dependent variable (y_test)\n",
        "X_test = sales_test[['In store advertising ($)', 'billboard Advertising ($)', 'Print Advertising ($)', 'Price ($)', 'Satisfaction', 'Competitor Adversiting ($)']]\n",
        "y_test = sales_test['Sales ($)']\n",
        "\n",
        "\n"
      ],
      "metadata": {
        "id": "CtSi-Wd3UrDq"
      },
      "execution_count": 3,
      "outputs": []
    },
    {
      "cell_type": "code",
      "source": [
        "# Parametric Model: Linear Regression\n",
        "parametric_model = LinearRegression()\n",
        "parametric_model.fit(X_train, y_train)\n",
        "\n",
        "# Machine Learning Model: k-Nearest Neighbors Regression\n",
        "ml_model = KNeighborsRegressor()\n",
        "ml_model.fit(X_train, y_train)\n",
        "\n",
        "# Predict sales volume using the parametric model\n",
        "parametric_predictions = parametric_model.predict(X_test)\n",
        "\n",
        "# Predict sales volume using the machine learning model\n",
        "ml_predictions = ml_model.predict(X_test)\n",
        "\n",
        "\n"
      ],
      "metadata": {
        "id": "bavcPQvYUwRD"
      },
      "execution_count": 4,
      "outputs": []
    },
    {
      "cell_type": "code",
      "source": [
        "# Calculate evaluation metrics for the parametric model\n",
        "parametric_r2 = r2_score(y_test, parametric_predictions)\n",
        "parametric_mse = mean_squared_error(y_test, parametric_predictions)\n",
        "parametric_mapd = np.mean(np.abs((y_test - parametric_predictions) / y_test)) * 100\n",
        "\n",
        "# Calculate evaluation metrics for the machine learning model\n",
        "ml_r2 = r2_score(y_test, ml_predictions)\n",
        "ml_mse = mean_squared_error(y_test, ml_predictions)\n",
        "ml_mapd = np.mean(np.abs((y_test - ml_predictions) / y_test)) * 100\n",
        "\n",
        "# Print the evaluation metrics for both models\n",
        "print(\"Parametric Model Evaluation:\")\n",
        "print(\"R-squared (R2):\", parametric_r2)\n",
        "print(\"Mean Squared Error (MSE):\", parametric_mse)\n",
        "print(\"Mean Absolute Percentage Difference (MAPD):\", parametric_mapd)\n",
        "\n",
        "print(\"\\nMachine Learning Model (KNN) Evaluation:\")\n",
        "print(\"R-squared (R2):\", ml_r2)\n",
        "print(\"Mean Squared Error (MSE):\", ml_mse)\n",
        "print(\"Mean Absolute Percentage Difference (MAPD):\", ml_mapd)\n"
      ],
      "metadata": {
        "colab": {
          "base_uri": "https://localhost:8080/"
        },
        "id": "y1idQfeaU85l",
        "outputId": "8b12c252-2c86-478d-cb3d-e53ac3ac059f"
      },
      "execution_count": 5,
      "outputs": [
        {
          "output_type": "stream",
          "name": "stdout",
          "text": [
            "Parametric Model Evaluation:\n",
            "R-squared (R2): 0.9201816438077914\n",
            "Mean Squared Error (MSE): 1113983.9557694958\n",
            "Mean Absolute Percentage Difference (MAPD): 4.9443513489899065\n",
            "\n",
            "Machine Learning Model (KNN) Evaluation:\n",
            "R-squared (R2): 0.7245906707595942\n",
            "Mean Squared Error (MSE): 3843747.0862498065\n",
            "Mean Absolute Percentage Difference (MAPD): 9.231007537324638\n"
          ]
        }
      ]
    },
    {
      "cell_type": "code",
      "source": [
        "import pandas as pd\n",
        "import numpy as np\n",
        "from sklearn.linear_model import LinearRegression\n",
        "from sklearn.neighbors import KNeighborsRegressor\n",
        "from sklearn.metrics import r2_score, mean_squared_error\n",
        "import statsmodels.api as sm\n",
        "\n",
        "# Load the dataset\n",
        "data = pd.read_excel(\"/content/MMM_Store sales.xlsx\")\n",
        "\n",
        "# Split the dataset into training and testing sets\n",
        "train_size = int(0.75 * len(data))\n",
        "sales_train = data[:train_size]\n",
        "sales_test = data[train_size:]\n"
      ],
      "metadata": {
        "id": "0oiQgAZJWyst"
      },
      "execution_count": 6,
      "outputs": []
    },
    {
      "cell_type": "code",
      "source": [
        "# Add pairwise interactions for advertising channels\n",
        "sales_train['Store_Billboard'] = sales_train['In store advertising ($)'] * sales_train['billboard Advertising ($)']\n",
        "sales_train['Store_Printout'] = sales_train['In store advertising ($)'] * sales_train['Print Advertising ($)']\n",
        "sales_train['Billboard_Printout'] = sales_train['billboard Advertising ($)'] * sales_train['Print Advertising ($)']\n",
        "\n",
        "sales_test['Store_Billboard'] = sales_test['In store advertising ($)'] * sales_test['billboard Advertising ($)']\n",
        "sales_test['Store_Printout'] = sales_test['In store advertising ($)'] * sales_test['Print Advertising ($)']\n",
        "sales_test['Billboard_Printout'] = sales_test['billboard Advertising ($)'] * sales_test['Print Advertising ($)']\n"
      ],
      "metadata": {
        "colab": {
          "base_uri": "https://localhost:8080/"
        },
        "id": "5209_EwfXBA9",
        "outputId": "b24014e4-6a30-4ad7-fde9-293043c4f8d4"
      },
      "execution_count": 7,
      "outputs": [
        {
          "output_type": "stream",
          "name": "stderr",
          "text": [
            "<ipython-input-7-af173bce6ddb>:2: SettingWithCopyWarning: \n",
            "A value is trying to be set on a copy of a slice from a DataFrame.\n",
            "Try using .loc[row_indexer,col_indexer] = value instead\n",
            "\n",
            "See the caveats in the documentation: https://pandas.pydata.org/pandas-docs/stable/user_guide/indexing.html#returning-a-view-versus-a-copy\n",
            "  sales_train['Store_Billboard'] = sales_train['In store advertising ($)'] * sales_train['billboard Advertising ($)']\n",
            "<ipython-input-7-af173bce6ddb>:3: SettingWithCopyWarning: \n",
            "A value is trying to be set on a copy of a slice from a DataFrame.\n",
            "Try using .loc[row_indexer,col_indexer] = value instead\n",
            "\n",
            "See the caveats in the documentation: https://pandas.pydata.org/pandas-docs/stable/user_guide/indexing.html#returning-a-view-versus-a-copy\n",
            "  sales_train['Store_Printout'] = sales_train['In store advertising ($)'] * sales_train['Print Advertising ($)']\n",
            "<ipython-input-7-af173bce6ddb>:4: SettingWithCopyWarning: \n",
            "A value is trying to be set on a copy of a slice from a DataFrame.\n",
            "Try using .loc[row_indexer,col_indexer] = value instead\n",
            "\n",
            "See the caveats in the documentation: https://pandas.pydata.org/pandas-docs/stable/user_guide/indexing.html#returning-a-view-versus-a-copy\n",
            "  sales_train['Billboard_Printout'] = sales_train['billboard Advertising ($)'] * sales_train['Print Advertising ($)']\n",
            "<ipython-input-7-af173bce6ddb>:6: SettingWithCopyWarning: \n",
            "A value is trying to be set on a copy of a slice from a DataFrame.\n",
            "Try using .loc[row_indexer,col_indexer] = value instead\n",
            "\n",
            "See the caveats in the documentation: https://pandas.pydata.org/pandas-docs/stable/user_guide/indexing.html#returning-a-view-versus-a-copy\n",
            "  sales_test['Store_Billboard'] = sales_test['In store advertising ($)'] * sales_test['billboard Advertising ($)']\n",
            "<ipython-input-7-af173bce6ddb>:7: SettingWithCopyWarning: \n",
            "A value is trying to be set on a copy of a slice from a DataFrame.\n",
            "Try using .loc[row_indexer,col_indexer] = value instead\n",
            "\n",
            "See the caveats in the documentation: https://pandas.pydata.org/pandas-docs/stable/user_guide/indexing.html#returning-a-view-versus-a-copy\n",
            "  sales_test['Store_Printout'] = sales_test['In store advertising ($)'] * sales_test['Print Advertising ($)']\n",
            "<ipython-input-7-af173bce6ddb>:8: SettingWithCopyWarning: \n",
            "A value is trying to be set on a copy of a slice from a DataFrame.\n",
            "Try using .loc[row_indexer,col_indexer] = value instead\n",
            "\n",
            "See the caveats in the documentation: https://pandas.pydata.org/pandas-docs/stable/user_guide/indexing.html#returning-a-view-versus-a-copy\n",
            "  sales_test['Billboard_Printout'] = sales_test['billboard Advertising ($)'] * sales_test['Print Advertising ($)']\n"
          ]
        }
      ]
    },
    {
      "cell_type": "code",
      "source": [
        "# Training set\n",
        "X_train = sales_train[['Price ($)', 'In store advertising ($)', 'billboard Advertising ($)', 'Print Advertising ($)', 'Satisfaction',\n",
        "                       'Competitor Adversiting ($)', 'Store_Billboard', 'Store_Printout', 'Billboard_Printout']]\n",
        "y_train = sales_train['Sales ($)']\n",
        "\n",
        "# Testing set\n",
        "X_test = sales_test[['Price ($)', 'In store advertising ($)', 'billboard Advertising ($)', 'Print Advertising ($)', 'Satisfaction',\n",
        "                     'Competitor Adversiting ($)', 'Store_Billboard', 'Store_Printout', 'Billboard_Printout']]\n",
        "y_test = sales_test['Sales ($)']\n"
      ],
      "metadata": {
        "id": "d2_7UlaWXPrV"
      },
      "execution_count": 8,
      "outputs": []
    },
    {
      "cell_type": "code",
      "source": [
        "# Parametric Model: Linear Regression with interactions\n",
        "parametric_model = LinearRegression()\n",
        "parametric_model.fit(X_train, y_train)\n",
        "\n",
        "# Perform inference using the parametric model\n",
        "X_train_inference = sm.add_constant(X_train)  # Add a constant term for intercept\n",
        "parametric_results = sm.OLS(y_train, X_train_inference).fit()\n",
        "parametric_coefficients = parametric_results.params\n",
        "parametric_standard_errors = parametric_results.bse\n"
      ],
      "metadata": {
        "id": "jJxNG66UXqTF"
      },
      "execution_count": 9,
      "outputs": []
    },
    {
      "cell_type": "code",
      "source": [
        "# Machine Learning Model: k-Nearest Neighbors Regression\n",
        "ml_model = KNeighborsRegressor()\n",
        "ml_model.fit(X_train, y_train)\n"
      ],
      "metadata": {
        "id": "F5fAJcBkYwMx",
        "colab": {
          "base_uri": "https://localhost:8080/",
          "height": 74
        },
        "outputId": "f21717d0-123d-48f0-bc71-01c97b3b985a"
      },
      "execution_count": 10,
      "outputs": [
        {
          "output_type": "execute_result",
          "data": {
            "text/plain": [
              "KNeighborsRegressor()"
            ],
            "text/html": [
              "<style>#sk-container-id-1 {color: black;background-color: white;}#sk-container-id-1 pre{padding: 0;}#sk-container-id-1 div.sk-toggleable {background-color: white;}#sk-container-id-1 label.sk-toggleable__label {cursor: pointer;display: block;width: 100%;margin-bottom: 0;padding: 0.3em;box-sizing: border-box;text-align: center;}#sk-container-id-1 label.sk-toggleable__label-arrow:before {content: \"▸\";float: left;margin-right: 0.25em;color: #696969;}#sk-container-id-1 label.sk-toggleable__label-arrow:hover:before {color: black;}#sk-container-id-1 div.sk-estimator:hover label.sk-toggleable__label-arrow:before {color: black;}#sk-container-id-1 div.sk-toggleable__content {max-height: 0;max-width: 0;overflow: hidden;text-align: left;background-color: #f0f8ff;}#sk-container-id-1 div.sk-toggleable__content pre {margin: 0.2em;color: black;border-radius: 0.25em;background-color: #f0f8ff;}#sk-container-id-1 input.sk-toggleable__control:checked~div.sk-toggleable__content {max-height: 200px;max-width: 100%;overflow: auto;}#sk-container-id-1 input.sk-toggleable__control:checked~label.sk-toggleable__label-arrow:before {content: \"▾\";}#sk-container-id-1 div.sk-estimator input.sk-toggleable__control:checked~label.sk-toggleable__label {background-color: #d4ebff;}#sk-container-id-1 div.sk-label input.sk-toggleable__control:checked~label.sk-toggleable__label {background-color: #d4ebff;}#sk-container-id-1 input.sk-hidden--visually {border: 0;clip: rect(1px 1px 1px 1px);clip: rect(1px, 1px, 1px, 1px);height: 1px;margin: -1px;overflow: hidden;padding: 0;position: absolute;width: 1px;}#sk-container-id-1 div.sk-estimator {font-family: monospace;background-color: #f0f8ff;border: 1px dotted black;border-radius: 0.25em;box-sizing: border-box;margin-bottom: 0.5em;}#sk-container-id-1 div.sk-estimator:hover {background-color: #d4ebff;}#sk-container-id-1 div.sk-parallel-item::after {content: \"\";width: 100%;border-bottom: 1px solid gray;flex-grow: 1;}#sk-container-id-1 div.sk-label:hover label.sk-toggleable__label {background-color: #d4ebff;}#sk-container-id-1 div.sk-serial::before {content: \"\";position: absolute;border-left: 1px solid gray;box-sizing: border-box;top: 0;bottom: 0;left: 50%;z-index: 0;}#sk-container-id-1 div.sk-serial {display: flex;flex-direction: column;align-items: center;background-color: white;padding-right: 0.2em;padding-left: 0.2em;position: relative;}#sk-container-id-1 div.sk-item {position: relative;z-index: 1;}#sk-container-id-1 div.sk-parallel {display: flex;align-items: stretch;justify-content: center;background-color: white;position: relative;}#sk-container-id-1 div.sk-item::before, #sk-container-id-1 div.sk-parallel-item::before {content: \"\";position: absolute;border-left: 1px solid gray;box-sizing: border-box;top: 0;bottom: 0;left: 50%;z-index: -1;}#sk-container-id-1 div.sk-parallel-item {display: flex;flex-direction: column;z-index: 1;position: relative;background-color: white;}#sk-container-id-1 div.sk-parallel-item:first-child::after {align-self: flex-end;width: 50%;}#sk-container-id-1 div.sk-parallel-item:last-child::after {align-self: flex-start;width: 50%;}#sk-container-id-1 div.sk-parallel-item:only-child::after {width: 0;}#sk-container-id-1 div.sk-dashed-wrapped {border: 1px dashed gray;margin: 0 0.4em 0.5em 0.4em;box-sizing: border-box;padding-bottom: 0.4em;background-color: white;}#sk-container-id-1 div.sk-label label {font-family: monospace;font-weight: bold;display: inline-block;line-height: 1.2em;}#sk-container-id-1 div.sk-label-container {text-align: center;}#sk-container-id-1 div.sk-container {/* jupyter's `normalize.less` sets `[hidden] { display: none; }` but bootstrap.min.css set `[hidden] { display: none !important; }` so we also need the `!important` here to be able to override the default hidden behavior on the sphinx rendered scikit-learn.org. See: https://github.com/scikit-learn/scikit-learn/issues/21755 */display: inline-block !important;position: relative;}#sk-container-id-1 div.sk-text-repr-fallback {display: none;}</style><div id=\"sk-container-id-1\" class=\"sk-top-container\"><div class=\"sk-text-repr-fallback\"><pre>KNeighborsRegressor()</pre><b>In a Jupyter environment, please rerun this cell to show the HTML representation or trust the notebook. <br />On GitHub, the HTML representation is unable to render, please try loading this page with nbviewer.org.</b></div><div class=\"sk-container\" hidden><div class=\"sk-item\"><div class=\"sk-estimator sk-toggleable\"><input class=\"sk-toggleable__control sk-hidden--visually\" id=\"sk-estimator-id-1\" type=\"checkbox\" checked><label for=\"sk-estimator-id-1\" class=\"sk-toggleable__label sk-toggleable__label-arrow\">KNeighborsRegressor</label><div class=\"sk-toggleable__content\"><pre>KNeighborsRegressor()</pre></div></div></div></div></div>"
            ]
          },
          "metadata": {},
          "execution_count": 10
        }
      ]
    },
    {
      "cell_type": "code",
      "source": [
        "# Predict sales volume using the parametric model\n",
        "parametric_predictions = parametric_model.predict(X_test)\n",
        "\n",
        "# Predict sales volume using the machine learning model\n",
        "ml_predictions = ml_model.predict(X_test)\n"
      ],
      "metadata": {
        "id": "v-5SvqkmY2Jk"
      },
      "execution_count": 11,
      "outputs": []
    },
    {
      "cell_type": "code",
      "source": [
        "# Calculate evaluation metrics for the parametric model\n",
        "parametric_r2 = r2_score(y_test, parametric_predictions)\n",
        "parametric_mse = mean_squared_error(y_test, parametric_predictions)\n",
        "parametric_mapd = np.mean(np.abs((y_test - parametric_predictions) / y_test)) * 100\n",
        "\n"
      ],
      "metadata": {
        "id": "eVIx67t8Y-9Q"
      },
      "execution_count": 12,
      "outputs": []
    },
    {
      "cell_type": "code",
      "source": [
        "# Calculate evaluation metrics for the machine learning model\n",
        "ml_r2 = r2_score(y_test, ml_predictions)\n",
        "ml_mse = mean_squared_error(y_test, ml_predictions)\n",
        "ml_mapd = np.mean(np.abs((y_test - ml_predictions) / y_test)) * 100\n",
        "\n",
        "# Print the evaluation metrics\n",
        "print(\"Parametric Model:\")\n",
        "print(\"R-squared:\", parametric_r2)\n",
        "print(\"MSE:\", parametric_mse)\n",
        "print(\"MAPD:\", parametric_mapd)\n",
        "\n",
        "print(\"\\nMachine Learning Model (KNN):\")\n",
        "print(\"R-squared:\", ml_r2)\n",
        "print(\"MSE:\", ml_mse)\n",
        "print(\"MAPD:\", ml_mapd)"
      ],
      "metadata": {
        "colab": {
          "base_uri": "https://localhost:8080/"
        },
        "id": "Ex4napaEZPE2",
        "outputId": "4ce42429-82b1-4c0c-81b5-3d1151ef1536"
      },
      "execution_count": 13,
      "outputs": [
        {
          "output_type": "stream",
          "name": "stdout",
          "text": [
            "Parametric Model:\n",
            "R-squared: 0.9283838439918626\n",
            "MSE: 999510.0447174818\n",
            "MAPD: 4.803844114352636\n",
            "\n",
            "Machine Learning Model (KNN):\n",
            "R-squared: 0.7502883567067267\n",
            "MSE: 3485097.632525485\n",
            "MAPD: 8.546523617700116\n"
          ]
        }
      ]
    },
    {
      "cell_type": "code",
      "source": [
        "\n"
      ],
      "metadata": {
        "id": "QCPbgxY6HmUy"
      },
      "execution_count": 13,
      "outputs": []
    },
    {
      "cell_type": "code",
      "source": [
        "from sklearn.neighbors import KNeighborsRegressor\n",
        "\n",
        "# Define the independent variables and target variable\n",
        "X = data[['Price ($)', 'In store advertising ($)', 'billboard Advertising ($)', 'Print Advertising ($)', 'Satisfaction', 'Competitor Adversiting ($)']]\n",
        "y = data['Sales ($)']\n",
        "# Initialize and fit the KNN model\n",
        "knn = KNeighborsRegressor(n_neighbors=5)\n",
        "knn.fit(X, y)\n",
        "\n",
        "# Make predictions on the same dataset\n",
        "y_pred = knn.predict(X)\n",
        "\n",
        "# Calculate ROI\n",
        "cost = data['In store advertising ($)'] + data['billboard Advertising ($)'] + data['Print Advertising ($)']\n",
        "roi = (y - cost) / cost\n",
        "\n",
        "# Calculate Elasticity\n",
        "percentage_change_sales = ((y - y_pred) / y_pred) * 100\n",
        "percentage_change_price = ((data['Price ($)'] - data['Price ($)'].shift(1)) / data['Price ($)'].shift(1)) * 100\n",
        "elasticity = percentage_change_sales / percentage_change_price\n",
        "\n",
        "# Add ROI and Elasticity to the dataset\n",
        "data['ROI'] = roi\n",
        "data['Elasticity'] = elasticity\n",
        "\n",
        "# Print the updated dataset\n",
        "print(data)\n"
      ],
      "metadata": {
        "id": "dsg7eycqgJcx",
        "colab": {
          "base_uri": "https://localhost:8080/"
        },
        "outputId": "60e21fa4-dfab-4f6b-d551-e2248e3310b6"
      },
      "execution_count": 14,
      "outputs": [
        {
          "output_type": "stream",
          "name": "stdout",
          "text": [
            "     Month  In store advertising ($)  billboard Advertising ($)  \\\n",
            "0        1                      1698                        698   \n",
            "1        2                      2069                       1075   \n",
            "2        3                      2271                        615   \n",
            "3        4                      1413                       1158   \n",
            "4        5                      2107                       1175   \n",
            "..     ...                       ...                        ...   \n",
            "995    996                      1945                       1065   \n",
            "996    997                      2137                       1333   \n",
            "997    998                      2120                       1061   \n",
            "998    999                      2190                        656   \n",
            "999   1000                      1888                        702   \n",
            "\n",
            "     Print Advertising ($)  Satisfaction  Competitor Adversiting ($)  \\\n",
            "0                      556            68                         607   \n",
            "1                      775            72                         637   \n",
            "2                      772            71                         761   \n",
            "3                     1098            79                        1183   \n",
            "4                      386            77                         940   \n",
            "..                     ...           ...                         ...   \n",
            "995                   1226            72                         560   \n",
            "996                    419            70                         828   \n",
            "997                   1086            75                         721   \n",
            "998                    858            65                         787   \n",
            "999                    935            65                         742   \n",
            "\n",
            "     Price ($)     Sales ($)       ROI  Elasticity  \n",
            "0           95  13605.611909  3.608947         NaN  \n",
            "1          101  19142.673338  3.884581    0.497879  \n",
            "2           95  15027.623400  3.108153    1.396511  \n",
            "3           98  16589.659102  3.521575    4.342332  \n",
            "4           97  21887.582100  4.967171  -13.895604  \n",
            "..         ...           ...       ...         ...  \n",
            "995         98  17065.911952  3.028780  -11.381133  \n",
            "996        101  22886.886937  4.885031    1.160027  \n",
            "997         97  20481.464680  3.799968   -0.180563  \n",
            "998         98  14613.956024  2.945452   -8.078996  \n",
            "999         98  12709.785349  2.605613        -inf  \n",
            "\n",
            "[1000 rows x 10 columns]\n"
          ]
        }
      ]
    },
    {
      "cell_type": "code",
      "source": [
        "from sklearn.neighbors import KNeighborsRegressor\n",
        "\n",
        "# Define the independent variables and target variable\n",
        "X = data[['Price ($)', 'In store advertising ($)', 'billboard Advertising ($)', 'Print Advertising ($)', 'Satisfaction', 'Competitor Adversiting ($)']]\n",
        "y = data['Sales ($)']\n",
        "\n",
        "# Initialize and fit the KNN model\n",
        "knn = KNeighborsRegressor(n_neighbors=5)\n",
        "knn.fit(X, y)\n",
        "\n",
        "# Make predictions on the same dataset\n",
        "y_pred = knn.predict(X)\n",
        "\n",
        "# Calculate ROI and Elasticity for each month\n",
        "roi_list = []\n",
        "elasticity_list = []\n",
        "\n",
        "for i in range(len(data)):\n",
        "    sales = data.loc[i, 'Sales ($)']\n",
        "    cost = data.loc[i, 'In store advertising ($)'] + data.loc[i, 'billboard Advertising ($)'] + data.loc[i, 'Print Advertising ($)']\n",
        "    \n",
        "    roi = (sales - cost) / cost\n",
        "    roi_list.append(roi)\n",
        "    \n",
        "    if i > 0:\n",
        "        percentage_change_sales = ((sales - y_pred[i-1]) / y_pred[i-1]) * 100\n",
        "        percentage_change_price = ((data.loc[i, 'Price ($)'] - data.loc[i-1, 'Price ($)']) / data.loc[i-1, 'Price ($)']) * 100\n",
        "        \n",
        "        elasticity = percentage_change_sales / percentage_change_price\n",
        "        elasticity_list.append(elasticity)\n",
        "    else:\n",
        "        elasticity_list.append(None)\n",
        "\n",
        "# Add ROI and Elasticity to the dataset\n",
        "data['ROI'] = roi_list\n",
        "data['Elasticity'] = elasticity_list\n",
        "# Export the DataFrame to an Excel file\n",
        "data.to_excel('output_data.xlsx', index=False)\n",
        "\n",
        "# Print the updated dataset\n",
        "print(data)\n"
      ],
      "metadata": {
        "id": "1euKZzAg9Lo_",
        "colab": {
          "base_uri": "https://localhost:8080/"
        },
        "outputId": "e5c7d536-1d53-4b6d-b5a2-8cd49e767b82"
      },
      "execution_count": 15,
      "outputs": [
        {
          "output_type": "stream",
          "name": "stderr",
          "text": [
            "<ipython-input-15-0b6950907cf1>:29: RuntimeWarning: divide by zero encountered in double_scalars\n",
            "  elasticity = percentage_change_sales / percentage_change_price\n"
          ]
        },
        {
          "output_type": "stream",
          "name": "stdout",
          "text": [
            "     Month  In store advertising ($)  billboard Advertising ($)  \\\n",
            "0        1                      1698                        698   \n",
            "1        2                      2069                       1075   \n",
            "2        3                      2271                        615   \n",
            "3        4                      1413                       1158   \n",
            "4        5                      2107                       1175   \n",
            "..     ...                       ...                        ...   \n",
            "995    996                      1945                       1065   \n",
            "996    997                      2137                       1333   \n",
            "997    998                      2120                       1061   \n",
            "998    999                      2190                        656   \n",
            "999   1000                      1888                        702   \n",
            "\n",
            "     Print Advertising ($)  Satisfaction  Competitor Adversiting ($)  \\\n",
            "0                      556            68                         607   \n",
            "1                      775            72                         637   \n",
            "2                      772            71                         761   \n",
            "3                     1098            79                        1183   \n",
            "4                      386            77                         940   \n",
            "..                     ...           ...                         ...   \n",
            "995                   1226            72                         560   \n",
            "996                    419            70                         828   \n",
            "997                   1086            75                         721   \n",
            "998                    858            65                         787   \n",
            "999                    935            65                         742   \n",
            "\n",
            "     Price ($)     Sales ($)       ROI  Elasticity  \n",
            "0           95  13605.611909  3.608947         NaN  \n",
            "1          101  19142.673338  3.884581    5.805484  \n",
            "2           95  15027.623400  3.108153    3.203080  \n",
            "3           98  16589.659102  3.521575    0.391398  \n",
            "4           97  21887.582100  4.967171  -49.026324  \n",
            "..         ...           ...       ...         ...  \n",
            "995         98  17065.911952  3.028780    8.558833  \n",
            "996        101  22886.886937  4.885031   16.178511  \n",
            "997         97  20481.464680  3.799968    1.851371  \n",
            "998         98  14613.956024  2.945452  -27.293527  \n",
            "999         98  12709.785349  2.605613        -inf  \n",
            "\n",
            "[1000 rows x 10 columns]\n"
          ]
        }
      ]
    },
    {
      "cell_type": "code",
      "source": [],
      "metadata": {
        "id": "9_COl_h_Hbub"
      },
      "execution_count": 15,
      "outputs": []
    },
    {
      "cell_type": "code",
      "source": [
        "import pandas as pd\n",
        "from sklearn.linear_model import LinearRegression\n",
        "\n",
        "# Load the Excel file\n",
        "data = pd.read_excel('/content/output_data Elasticity python.xlsx')\n",
        "\n",
        "\n",
        "# Drop rows with missing or invalid values\n",
        "data = data.replace([np.inf, -np.inf], np.nan)\n",
        "data = data.dropna(subset=['ROI', 'Elasticity'], how='any')\n",
        "\n",
        "# Extract the independent variables and target variables\n",
        "X = data[['Price ($)', 'In store advertising ($)', 'billboard Advertising ($)', 'Print Advertising ($)', 'Satisfaction', 'Competitor Adversiting ($)']]\n",
        "roi = data['ROI']\n",
        "elasticity = data['Elasticity']\n",
        "\n",
        "# Perform linear regression for ROI\n",
        "regressor_roi = LinearRegression()\n",
        "regressor_roi.fit(X, roi)\n",
        "coefficients_roi = regressor_roi.coef_\n",
        "\n",
        "# Perform linear regression for Elasticity\n",
        "regressor_elasticity = LinearRegression()\n",
        "regressor_elasticity.fit(X, elasticity)\n",
        "coefficients_elasticity = regressor_elasticity.coef_\n",
        "\n",
        "# Print the coefficients for ROI\n",
        "print(\"Coefficients for ROI:\")\n",
        "for variable, coefficient in zip(X.columns, coefficients_roi):\n",
        "    print(f\"{variable}: {coefficient}\")\n",
        "\n",
        "# Print the coefficients for Elasticity\n",
        "print(\"Coefficients for Elasticity:\")\n",
        "for variable, coefficient in zip(X.columns, coefficients_elasticity):\n",
        "    print(f\"{variable}: {coefficient}\")\n",
        "\n",
        "\n",
        "\n",
        "\n",
        "\n"
      ],
      "metadata": {
        "colab": {
          "base_uri": "https://localhost:8080/"
        },
        "id": "SQm3HyEq_vpg",
        "outputId": "055ecbf8-f304-4f86-cf41-9ed540e36b88"
      },
      "execution_count": 16,
      "outputs": [
        {
          "output_type": "stream",
          "name": "stdout",
          "text": [
            "Coefficients for ROI:\n",
            "Price ($): -0.05239205188935794\n",
            "In store advertising ($): 0.0005833622628190582\n",
            "billboard Advertising ($): 0.001648267463837007\n",
            "Print Advertising ($): -0.0012171059606555683\n",
            "Satisfaction: 0.05235932148768951\n",
            "Competitor Adversiting ($): -0.0004109316547236338\n",
            "Coefficients for Elasticity:\n",
            "Price ($): 0.16457757495951436\n",
            "In store advertising ($): -0.002481087171662698\n",
            "billboard Advertising ($): -0.0019566119997896196\n",
            "Print Advertising ($): -0.000800615465056024\n",
            "Satisfaction: 0.017095954523260137\n",
            "Competitor Adversiting ($): -0.0013383433408159038\n"
          ]
        }
      ]
    },
    {
      "cell_type": "markdown",
      "source": [
        "For ROI:\n",
        "Satisfaction has the greatest impact : An increase in satisfaction by 1 unit is associated with an increase in ROI by approximately 0.0524 units.\n",
        "\n",
        "\n",
        "For Elasticity using data produced by code:\n",
        "\n",
        "Price has the greatest impact ($): A 1% increase in price is associated with an increase in elasticity by approximately 0.1646 units.\n",
        "\n",
        "\n",
        "\n",
        "\n"
      ],
      "metadata": {
        "id": "ar7lYEj8IrVz"
      }
    },
    {
      "cell_type": "code",
      "source": [],
      "metadata": {
        "id": "QmPltobEJ6TD"
      },
      "execution_count": 16,
      "outputs": []
    },
    {
      "cell_type": "markdown",
      "source": [
        "Using Excel calcuated ROI and Elasticity\n",
        "ROI most impactful feature :  Satisfaction\n",
        "Elasticity most impactful feature: Price"
      ],
      "metadata": {
        "id": "AJB1on2t70Yu"
      }
    },
    {
      "cell_type": "code",
      "source": [
        "import pandas as pd\n",
        "from sklearn.linear_model import LinearRegression\n",
        "\n",
        "# Load the Excel file\n",
        "data = pd.read_excel('/content/output_data Elasticity calculated.xlsx')\n",
        "\n",
        "\n",
        "# Drop rows with missing or invalid values\n",
        "data = data.replace([np.inf, -np.inf], np.nan)\n",
        "data = data.dropna(subset=['ROI', 'Elasticity'], how='any')\n",
        "\n",
        "# Extract the independent variables and target variables\n",
        "X = data[['Price ($)', 'In store advertising ($)', 'billboard Advertising ($)', 'Print Advertising ($)', 'Satisfaction', 'Competitor Adversiting ($)']]\n",
        "roi = data['ROI']\n",
        "elasticity = data['Elasticity']\n",
        "\n",
        "# Perform linear regression for ROI\n",
        "regressor_roi = LinearRegression()\n",
        "regressor_roi.fit(X, roi)\n",
        "coefficients_roi = regressor_roi.coef_\n",
        "\n",
        "# Perform linear regression for Elasticity\n",
        "regressor_elasticity = LinearRegression()\n",
        "regressor_elasticity.fit(X, elasticity)\n",
        "coefficients_elasticity = regressor_elasticity.coef_\n",
        "\n",
        "# Print the coefficients for ROI\n",
        "print(\"Coefficients for ROI:\")\n",
        "for variable, coefficient in zip(X.columns, coefficients_roi):\n",
        "    print(f\"{variable}: {coefficient}\")\n",
        "\n",
        "# Print the coefficients for Elasticity\n",
        "print(\"Coefficients for Elasticity:\")\n",
        "for variable, coefficient in zip(X.columns, coefficients_elasticity):\n",
        "    print(f\"{variable}: {coefficient}\")"
      ],
      "metadata": {
        "colab": {
          "base_uri": "https://localhost:8080/"
        },
        "id": "RjFnKpTIKAKJ",
        "outputId": "439d2ce3-73fd-441d-c958-9e67dfb2cf7c"
      },
      "execution_count": 17,
      "outputs": [
        {
          "output_type": "stream",
          "name": "stdout",
          "text": [
            "Coefficients for ROI:\n",
            "Price ($): -0.05239205188935794\n",
            "In store advertising ($): 0.0005833622628190582\n",
            "billboard Advertising ($): 0.001648267463837007\n",
            "Print Advertising ($): -0.0012171059606555683\n",
            "Satisfaction: 0.05235932148768951\n",
            "Competitor Adversiting ($): -0.0004109316547236338\n",
            "Coefficients for Elasticity:\n",
            "Price ($): 0.24432693744673994\n",
            "In store advertising ($): -0.006215858569084292\n",
            "billboard Advertising ($): -0.0019453924617828663\n",
            "Print Advertising ($): -0.0016715495025396002\n",
            "Satisfaction: 0.017997729070869155\n",
            "Competitor Adversiting ($): -0.002068115254107891\n"
          ]
        }
      ]
    }
  ]
}