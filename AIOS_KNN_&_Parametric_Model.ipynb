{
  "nbformat": 4,
  "nbformat_minor": 0,
  "metadata": {
    "colab": {
      "provenance": [],
      "toc_visible": true,
      "authorship_tag": "ABX9TyNYbApE7H7NCSFIiOO5W+ri",
      "include_colab_link": true
    },
    "kernelspec": {
      "name": "python3",
      "display_name": "Python 3"
    },
    "language_info": {
      "name": "python"
    }
  },
  "cells": [
    {
      "cell_type": "markdown",
      "metadata": {
        "id": "view-in-github",
        "colab_type": "text"
      },
      "source": [
        "<a href=\"https://colab.research.google.com/github/torchflash/MMAI831-AIOS-Assignment/blob/main/AIOS_KNN_%26_Parametric_Model.ipynb\" target=\"_parent\"><img src=\"https://colab.research.google.com/assets/colab-badge.svg\" alt=\"Open In Colab\"/></a>"
      ]
    },
    {
      "cell_type": "markdown",
      "source": [
        "Objective: To build parametric and machine learning models for predicting sales volume using various independent variables, and to discuss the advantages and disadvantages of each model in terms of inference, predictability, and the estimation process.\n",
        "Dataset: The dataset \"MMM_store sales.xlsx\" contains information about sales volume and the independent variables of interest, including In Store Advertising ($), Billboard Advertising ($), Print Advertising ($), and control variables such as Price ($), Satisfaction, and Competitor Advertising ($).\n",
        "Details:\n",
        "\tYou can do the analysis in any software of your choice.\n",
        "\tUse tables, figures and other visuals to increase the readability and effectiveness of your report. \n",
        "\tSubmit only one assignment for your team via Dropbox. Any team member can make the submission. Make sure to have all team members' names on the report.\n"
      ],
      "metadata": {
        "id": "56yYK07MTWJ8"
      }
    },
    {
      "cell_type": "code",
      "source": [
        "import pandas as pd\n",
        "\n",
        "# Load the dataset\n",
        "data = pd.read_excel(\"/content/MMM_Store sales.xlsx\")\n",
        "\n",
        "# Display the first few rows of the dataset\n",
        "print(data.head())\n"
      ],
      "metadata": {
        "colab": {
          "base_uri": "https://localhost:8080/"
        },
        "id": "1T9YpYBVRrSJ",
        "outputId": "bba945e5-e0d9-48d8-eb57-5a2def71f631"
      },
      "execution_count": null,
      "outputs": [
        {
          "output_type": "stream",
          "name": "stdout",
          "text": [
            "   Month  In store advertising ($)  billboard Advertising ($)  \\\n",
            "0      1                      1698                        698   \n",
            "1      2                      2069                       1075   \n",
            "2      3                      2271                        615   \n",
            "3      4                      1413                       1158   \n",
            "4      5                      2107                       1175   \n",
            "\n",
            "   Print Advertising ($)  Satisfaction  Competitor Adversiting ($)  Price ($)  \\\n",
            "0                    556            68                         607         95   \n",
            "1                    775            72                         637        101   \n",
            "2                    772            71                         761         95   \n",
            "3                   1098            79                        1183         98   \n",
            "4                    386            77                         940         97   \n",
            "\n",
            "      Sales ($)  \n",
            "0  13605.611909  \n",
            "1  19142.673338  \n",
            "2  15027.623400  \n",
            "3  16589.659102  \n",
            "4  21887.582100  \n"
          ]
        }
      ]
    },
    {
      "cell_type": "code",
      "source": [
        "import pandas as pd\n",
        "import numpy as np\n",
        "from sklearn.linear_model import LinearRegression\n",
        "from sklearn.neighbors import KNeighborsRegressor\n",
        "from sklearn.metrics import r2_score, mean_squared_error\n",
        "\n",
        "# Load the dataset\n",
        "data = pd.read_excel(\"/content/MMM_Store sales.xlsx\")\n",
        "\n",
        "# Split the dataset into training and testing sets\n",
        "train_size = int(0.75 * len(data))\n",
        "sales_train = data[:train_size]\n",
        "sales_test = data[train_size:]\n",
        "\n",
        "# Split the training set into independent variables (X_train) and dependent variable (y_train)\n",
        "X_train = sales_train[['In store advertising ($)', 'billboard Advertising ($)', 'Print Advertising ($)', 'Price ($)', 'Satisfaction', 'Competitor Adversiting ($)']]\n",
        "y_train = sales_train['Sales ($)']\n",
        "\n",
        "# Split the testing set into independent variables (X_test) and dependent variable (y_test)\n",
        "X_test = sales_test[['In store advertising ($)', 'billboard Advertising ($)', 'Print Advertising ($)', 'Price ($)', 'Satisfaction', 'Competitor Adversiting ($)']]\n",
        "y_test = sales_test['Sales ($)']\n",
        "\n",
        "\n"
      ],
      "metadata": {
        "id": "3bx3KlEJUMoA"
      },
      "execution_count": null,
      "outputs": []
    },
    {
      "cell_type": "code",
      "source": [
        "# Split the dataset into training and testing sets\n",
        "train_size = int(0.75 * len(data))\n",
        "sales_train = data[:train_size]\n",
        "sales_test = data[train_size:]\n",
        "\n",
        "# Split the training set into independent variables (X_train) and dependent variable (y_train)\n",
        "X_train = sales_train[['In store advertising ($)', 'billboard Advertising ($)', 'Print Advertising ($)', 'Price ($)', 'Satisfaction', 'Competitor Adversiting ($)']]\n",
        "y_train = sales_train['Sales ($)']\n",
        "\n",
        "# Split the testing set into independent variables (X_test) and dependent variable (y_test)\n",
        "X_test = sales_test[['In store advertising ($)', 'billboard Advertising ($)', 'Print Advertising ($)', 'Price ($)', 'Satisfaction', 'Competitor Adversiting ($)']]\n",
        "y_test = sales_test['Sales ($)']\n",
        "\n",
        "\n"
      ],
      "metadata": {
        "id": "CtSi-Wd3UrDq"
      },
      "execution_count": null,
      "outputs": []
    },
    {
      "cell_type": "code",
      "source": [
        "# Parametric Model: Linear Regression\n",
        "parametric_model = LinearRegression()\n",
        "parametric_model.fit(X_train, y_train)\n",
        "\n",
        "# Machine Learning Model: k-Nearest Neighbors Regression\n",
        "ml_model = KNeighborsRegressor()\n",
        "ml_model.fit(X_train, y_train)\n",
        "\n",
        "# Predict sales volume using the parametric model\n",
        "parametric_predictions = parametric_model.predict(X_test)\n",
        "\n",
        "# Predict sales volume using the machine learning model\n",
        "ml_predictions = ml_model.predict(X_test)\n",
        "\n",
        "\n"
      ],
      "metadata": {
        "id": "bavcPQvYUwRD"
      },
      "execution_count": null,
      "outputs": []
    },
    {
      "cell_type": "code",
      "source": [
        "# Calculate evaluation metrics for the parametric model\n",
        "parametric_r2 = r2_score(y_test, parametric_predictions)\n",
        "parametric_mse = mean_squared_error(y_test, parametric_predictions)\n",
        "parametric_mapd = np.mean(np.abs((y_test - parametric_predictions) / y_test)) * 100\n",
        "\n",
        "# Calculate evaluation metrics for the machine learning model\n",
        "ml_r2 = r2_score(y_test, ml_predictions)\n",
        "ml_mse = mean_squared_error(y_test, ml_predictions)\n",
        "ml_mapd = np.mean(np.abs((y_test - ml_predictions) / y_test)) * 100\n",
        "\n",
        "# Print the evaluation metrics for both models\n",
        "print(\"Parametric Model Evaluation:\")\n",
        "print(\"R-squared (R2):\", parametric_r2)\n",
        "print(\"Mean Squared Error (MSE):\", parametric_mse)\n",
        "print(\"Mean Absolute Percentage Difference (MAPD):\", parametric_mapd)\n",
        "\n",
        "print(\"\\nMachine Learning Model (KNN) Evaluation:\")\n",
        "print(\"R-squared (R2):\", ml_r2)\n",
        "print(\"Mean Squared Error (MSE):\", ml_mse)\n",
        "print(\"Mean Absolute Percentage Difference (MAPD):\", ml_mapd)\n"
      ],
      "metadata": {
        "colab": {
          "base_uri": "https://localhost:8080/"
        },
        "id": "y1idQfeaU85l",
        "outputId": "765089f0-eae6-4b83-fe83-f97343ecd2e7"
      },
      "execution_count": null,
      "outputs": [
        {
          "output_type": "stream",
          "name": "stdout",
          "text": [
            "Parametric Model Evaluation:\n",
            "R-squared (R2): 0.9201816438077914\n",
            "Mean Squared Error (MSE): 1113983.9557694958\n",
            "Mean Absolute Percentage Difference (MAPD): 4.9443513489899065\n",
            "\n",
            "Machine Learning Model (KNN) Evaluation:\n",
            "R-squared (R2): 0.7245906707595942\n",
            "Mean Squared Error (MSE): 3843747.0862498065\n",
            "Mean Absolute Percentage Difference (MAPD): 9.231007537324638\n"
          ]
        }
      ]
    },
    {
      "cell_type": "code",
      "source": [
        "import pandas as pd\n",
        "import numpy as np\n",
        "from sklearn.linear_model import LinearRegression\n",
        "from sklearn.neighbors import KNeighborsRegressor\n",
        "from sklearn.metrics import r2_score, mean_squared_error\n",
        "import statsmodels.api as sm\n",
        "\n",
        "# Load the dataset\n",
        "data = pd.read_excel(\"/content/MMM_Store sales.xlsx\")\n",
        "\n",
        "# Split the dataset into training and testing sets\n",
        "train_size = int(0.75 * len(data))\n",
        "sales_train = data[:train_size]\n",
        "sales_test = data[train_size:]\n"
      ],
      "metadata": {
        "id": "0oiQgAZJWyst"
      },
      "execution_count": null,
      "outputs": []
    },
    {
      "cell_type": "code",
      "source": [
        "# Add pairwise interactions for advertising channels\n",
        "sales_train['Store_Billboard'] = sales_train['In store advertising ($)'] * sales_train['billboard Advertising ($)']\n",
        "sales_train['Store_Printout'] = sales_train['In store advertising ($)'] * sales_train['Print Advertising ($)']\n",
        "sales_train['Billboard_Printout'] = sales_train['billboard Advertising ($)'] * sales_train['Print Advertising ($)']\n",
        "\n",
        "sales_test['Store_Billboard'] = sales_test['In store advertising ($)'] * sales_test['billboard Advertising ($)']\n",
        "sales_test['Store_Printout'] = sales_test['In store advertising ($)'] * sales_test['Print Advertising ($)']\n",
        "sales_test['Billboard_Printout'] = sales_test['billboard Advertising ($)'] * sales_test['Print Advertising ($)']\n"
      ],
      "metadata": {
        "colab": {
          "base_uri": "https://localhost:8080/"
        },
        "id": "5209_EwfXBA9",
        "outputId": "bafbd706-53ff-476b-f115-b8882bb97a38"
      },
      "execution_count": null,
      "outputs": [
        {
          "output_type": "stream",
          "name": "stderr",
          "text": [
            "<ipython-input-7-af173bce6ddb>:2: SettingWithCopyWarning: \n",
            "A value is trying to be set on a copy of a slice from a DataFrame.\n",
            "Try using .loc[row_indexer,col_indexer] = value instead\n",
            "\n",
            "See the caveats in the documentation: https://pandas.pydata.org/pandas-docs/stable/user_guide/indexing.html#returning-a-view-versus-a-copy\n",
            "  sales_train['Store_Billboard'] = sales_train['In store advertising ($)'] * sales_train['billboard Advertising ($)']\n",
            "<ipython-input-7-af173bce6ddb>:3: SettingWithCopyWarning: \n",
            "A value is trying to be set on a copy of a slice from a DataFrame.\n",
            "Try using .loc[row_indexer,col_indexer] = value instead\n",
            "\n",
            "See the caveats in the documentation: https://pandas.pydata.org/pandas-docs/stable/user_guide/indexing.html#returning-a-view-versus-a-copy\n",
            "  sales_train['Store_Printout'] = sales_train['In store advertising ($)'] * sales_train['Print Advertising ($)']\n",
            "<ipython-input-7-af173bce6ddb>:4: SettingWithCopyWarning: \n",
            "A value is trying to be set on a copy of a slice from a DataFrame.\n",
            "Try using .loc[row_indexer,col_indexer] = value instead\n",
            "\n",
            "See the caveats in the documentation: https://pandas.pydata.org/pandas-docs/stable/user_guide/indexing.html#returning-a-view-versus-a-copy\n",
            "  sales_train['Billboard_Printout'] = sales_train['billboard Advertising ($)'] * sales_train['Print Advertising ($)']\n",
            "<ipython-input-7-af173bce6ddb>:6: SettingWithCopyWarning: \n",
            "A value is trying to be set on a copy of a slice from a DataFrame.\n",
            "Try using .loc[row_indexer,col_indexer] = value instead\n",
            "\n",
            "See the caveats in the documentation: https://pandas.pydata.org/pandas-docs/stable/user_guide/indexing.html#returning-a-view-versus-a-copy\n",
            "  sales_test['Store_Billboard'] = sales_test['In store advertising ($)'] * sales_test['billboard Advertising ($)']\n",
            "<ipython-input-7-af173bce6ddb>:7: SettingWithCopyWarning: \n",
            "A value is trying to be set on a copy of a slice from a DataFrame.\n",
            "Try using .loc[row_indexer,col_indexer] = value instead\n",
            "\n",
            "See the caveats in the documentation: https://pandas.pydata.org/pandas-docs/stable/user_guide/indexing.html#returning-a-view-versus-a-copy\n",
            "  sales_test['Store_Printout'] = sales_test['In store advertising ($)'] * sales_test['Print Advertising ($)']\n",
            "<ipython-input-7-af173bce6ddb>:8: SettingWithCopyWarning: \n",
            "A value is trying to be set on a copy of a slice from a DataFrame.\n",
            "Try using .loc[row_indexer,col_indexer] = value instead\n",
            "\n",
            "See the caveats in the documentation: https://pandas.pydata.org/pandas-docs/stable/user_guide/indexing.html#returning-a-view-versus-a-copy\n",
            "  sales_test['Billboard_Printout'] = sales_test['billboard Advertising ($)'] * sales_test['Print Advertising ($)']\n"
          ]
        }
      ]
    },
    {
      "cell_type": "code",
      "source": [
        "# Training set\n",
        "X_train = sales_train[['Price ($)', 'In store advertising ($)', 'billboard Advertising ($)', 'Print Advertising ($)', 'Satisfaction',\n",
        "                       'Competitor Adversiting ($)', 'Store_Billboard', 'Store_Printout', 'Billboard_Printout']]\n",
        "y_train = sales_train['Sales ($)']\n",
        "\n",
        "# Testing set\n",
        "X_test = sales_test[['Price ($)', 'In store advertising ($)', 'billboard Advertising ($)', 'Print Advertising ($)', 'Satisfaction',\n",
        "                     'Competitor Adversiting ($)', 'Store_Billboard', 'Store_Printout', 'Billboard_Printout']]\n",
        "y_test = sales_test['Sales ($)']\n"
      ],
      "metadata": {
        "id": "d2_7UlaWXPrV"
      },
      "execution_count": null,
      "outputs": []
    },
    {
      "cell_type": "code",
      "source": [
        "# Parametric Model: Linear Regression with interactions\n",
        "parametric_model = LinearRegression()\n",
        "parametric_model.fit(X_train, y_train)\n",
        "\n",
        "# Perform inference using the parametric model\n",
        "X_train_inference = sm.add_constant(X_train)  # Add a constant term for intercept\n",
        "parametric_results = sm.OLS(y_train, X_train_inference).fit()\n",
        "parametric_coefficients = parametric_results.params\n",
        "parametric_standard_errors = parametric_results.bse\n"
      ],
      "metadata": {
        "id": "jJxNG66UXqTF"
      },
      "execution_count": null,
      "outputs": []
    },
    {
      "cell_type": "code",
      "source": [
        "# Machine Learning Model: k-Nearest Neighbors Regression\n",
        "ml_model = KNeighborsRegressor()\n",
        "ml_model.fit(X_train, y_train)\n"
      ],
      "metadata": {
        "id": "F5fAJcBkYwMx"
      },
      "execution_count": null,
      "outputs": []
    },
    {
      "cell_type": "code",
      "source": [
        "# Predict sales volume using the parametric model\n",
        "parametric_predictions = parametric_model.predict(X_test)\n",
        "\n",
        "# Predict sales volume using the machine learning model\n",
        "ml_predictions = ml_model.predict(X_test)\n"
      ],
      "metadata": {
        "id": "v-5SvqkmY2Jk"
      },
      "execution_count": null,
      "outputs": []
    },
    {
      "cell_type": "code",
      "source": [
        "# Calculate evaluation metrics for the parametric model\n",
        "parametric_r2 = r2_score(y_test, parametric_predictions)\n",
        "parametric_mse = mean_squared_error(y_test, parametric_predictions)\n",
        "parametric_mapd = np.mean(np.abs((y_test - parametric_predictions) / y_test)) * 100\n",
        "\n"
      ],
      "metadata": {
        "id": "eVIx67t8Y-9Q"
      },
      "execution_count": null,
      "outputs": []
    },
    {
      "cell_type": "code",
      "source": [
        "# Calculate evaluation metrics for the machine learning model\n",
        "ml_r2 = r2_score(y_test, ml_predictions)\n",
        "ml_mse = mean_squared_error(y_test, ml_predictions)\n",
        "ml_mapd = np.mean(np.abs((y_test - ml_predictions) / y_test)) * 100\n",
        "\n",
        "# Print the evaluation metrics\n",
        "print(\"Parametric Model:\")\n",
        "print(\"R-squared:\", parametric_r2)\n",
        "print(\"MSE:\", parametric_mse)\n",
        "print(\"MAPD:\", parametric_mapd)\n",
        "\n",
        "print(\"\\nMachine Learning Model (KNN):\")\n",
        "print(\"R-squared:\", ml_r2)\n",
        "print(\"MSE:\", ml_mse)\n",
        "print(\"MAPD:\", ml_mapd)"
      ],
      "metadata": {
        "colab": {
          "base_uri": "https://localhost:8080/"
        },
        "id": "Ex4napaEZPE2",
        "outputId": "dc6d8fe3-72be-46f7-ebb2-7aff4d189120"
      },
      "execution_count": null,
      "outputs": [
        {
          "output_type": "stream",
          "name": "stdout",
          "text": [
            "Parametric Model:\n",
            "R-squared: 0.9283838439918626\n",
            "MSE: 999510.0447174818\n",
            "MAPD: 4.803844114352636\n",
            "\n",
            "Machine Learning Model (KNN):\n",
            "R-squared: 0.7502883567067267\n",
            "MSE: 3485097.632525485\n",
            "MAPD: 8.546523617700116\n"
          ]
        }
      ]
    },
    {
      "cell_type": "code",
      "source": [],
      "metadata": {
        "id": "dsg7eycqgJcx"
      },
      "execution_count": null,
      "outputs": []
    }
  ]
}